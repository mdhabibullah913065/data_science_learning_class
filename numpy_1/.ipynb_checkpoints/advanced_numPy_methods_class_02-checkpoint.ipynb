{
 "cells": [
  {
   "cell_type": "markdown",
   "id": "1dec790e-faaf-49ed-9f5d-a0d020666712",
   "metadata": {},
   "source": [
    "1_Multidimensional_NumPy_Arrays\n",
    "- Mathematical_Objects:\n",
    "- Scalar (0D), Vector (1D), Matrix (2D), Tensor (XD Where x > 2)"
   ]
  },
  {
   "cell_type": "code",
   "execution_count": 2,
   "id": "daea1273-0368-4b19-931c-7b4e5030bb22",
   "metadata": {},
   "outputs": [
    {
     "name": "stdout",
     "output_type": "stream",
     "text": [
      "Sclar: 90\n",
      "Dimension: 0\n",
      "vector: [1 2 3]\n",
      "Dimension: 1\n",
      "Metrix: [[1 2 3]\n",
      " [4 5 6]\n",
      " [7 8 9]]\n",
      "Dimension: 2\n",
      "Tensor: [[[[1]]]]\n",
      "Dimension: 4\n"
     ]
    }
   ],
   "source": [
    "import numpy as np\n",
    "\n",
    "scalar = np.array(90) # 0D\n",
    "vector = np.array(\n",
    "    [1, 2, 3]  # 1D\n",
    ")\n",
    "\n",
    "metrix = np.array(\n",
    "    [ [1, 2, 3], \n",
    "    [4,5,6],\n",
    "    [7,8,9] ] #2D\n",
    ")\n",
    "\n",
    "tensor = np.array(\n",
    "    [[[[1]]]]  # 4D\n",
    ")\n",
    "\n",
    "print('Sclar:', scalar)\n",
    "print('Dimension:', scalar.ndim)\n",
    "\n",
    "print('vector:', vector)\n",
    "print('Dimension:', vector.ndim)\n",
    "\n",
    "print('Metrix:', metrix)\n",
    "print('Dimension:', metrix.ndim)\n",
    "\n",
    "print('Tensor:', tensor)\n",
    "print('Dimension:', tensor.ndim)\n"
   ]
  },
  {
   "cell_type": "markdown",
   "id": "d75b62f5-01b4-4e83-831d-2df3ad6fd65c",
   "metadata": {},
   "source": [
    "2_Numpy_Indexing"
   ]
  },
  {
   "cell_type": "code",
   "execution_count": 25,
   "id": "864af2d5-34a2-411c-bfa2-7de0bc9398c0",
   "metadata": {},
   "outputs": [
    {
     "name": "stdout",
     "output_type": "stream",
     "text": [
      "1\n",
      "1\n",
      "5\n",
      "5\n"
     ]
    }
   ],
   "source": [
    "my_1d_array = np.array(\n",
    "    [1, 2, 3, 4]\n",
    ")\n",
    "\n",
    "print(my_1d_array[0])\n",
    "print(my_1d_array[-4])\n",
    "\n",
    "my_2d_array = np.array(\n",
    "    [[1, 2, 3, 4], # 0 -3\n",
    "    [5, 6, 5, 8], # 1  -2\n",
    "    [9, 6, 4, 1]] # 2 -1\n",
    ")\n",
    "\n",
    "print(my_2d_array[1,2])\n",
    "print(my_2d_array[-2,-2]) # nagative_indexing"
   ]
  },
  {
   "cell_type": "code",
   "execution_count": 28,
   "id": "91f03af2-3957-4b59-87d7-d73e5a5fcaf9",
   "metadata": {},
   "outputs": [
    {
     "data": {
      "text/plain": [
       "(1, 2, 2)"
      ]
     },
     "execution_count": 28,
     "metadata": {},
     "output_type": "execute_result"
    }
   ],
   "source": [
    "my_3d_array = np.array(\n",
    "    [\n",
    "        [\n",
    "            [1, 2 ],\n",
    "            [5, 6 ],\n",
    "        ]\n",
    "    ]\n",
    ") \n",
    "\n",
    "my_3d_array.shape \n",
    "# 1*2*2  Note: 1--> There_is_1_block, 2--> 2_rows_in_each_ block 2---> 2_elements in_each_row"
   ]
  },
  {
   "cell_type": "code",
   "execution_count": 39,
   "id": "2cc73ca8-a6f7-4fa9-beba-cf4de8894a3e",
   "metadata": {},
   "outputs": [
    {
     "data": {
      "text/plain": [
       "np.int64(6)"
      ]
     },
     "execution_count": 39,
     "metadata": {},
     "output_type": "execute_result"
    }
   ],
   "source": [
    "my_3d_array = np.array(\n",
    "    [\n",
    "        [ # 1st_block\n",
    "            [1, 2 ],\n",
    "            [3, 4 ],\n",
    "        ],\n",
    "        [ # 2nd_block\n",
    "            [5, 6],\n",
    "            [7, 8 ],\n",
    "        ]\n",
    "    ]\n",
    ") \n",
    "\n",
    "my_3d_array.shape\n",
    "# 2*2*2 Note: 2_layers/block (depth = 2), 2_rows_in_each_layer , 2_elements_in_each_row\n",
    "\n",
    "my_3d_array[1][0][1] # Note: 2nd_block → [1] , block_1st _row → [0], row_2nd_element → [1]\n",
    "my_3d_array[-1][0][-1] # nagative_indexing"
   ]
  },
  {
   "cell_type": "markdown",
   "id": "8bf4e471-ae27-4726-a4b6-b45094a92b38",
   "metadata": {},
   "source": [
    "3_Numpy_Slicing\n",
    "- arguments_with_default_values: start=0, stop_n, step=1\n",
    "- array_name [start:stop:step]\n",
    "- end_index_is_excluded"
   ]
  },
  {
   "cell_type": "code",
   "execution_count": 53,
   "id": "1e124fa7-0828-4617-bee0-e3eb0451c422",
   "metadata": {},
   "outputs": [
    {
     "name": "stdout",
     "output_type": "stream",
     "text": [
      "[2 3 4]\n",
      "[1 2 3 4 5 6]\n",
      "1st_first_5_ta_digit: [1 2 3 4 5]\n",
      "1st 3_digit_por_baki_gula: [4 5 6]\n",
      "Every second character: [1 3 5]\n",
      "Reverses the string  [6 5 4 3 2 1]\n",
      "Reverses the string  [6 2]\n",
      "Array: [1 2 3 4 5 6]\n",
      "[2 3 4]\n",
      "[2 4 6]\n"
     ]
    }
   ],
   "source": [
    "my_1d_array = np.array(\n",
    "    [1, 2, 3, 4, 5, 6 ]\n",
    ")\n",
    "\n",
    "print(my_1d_array [1:4]) # 2, 3, 4\n",
    "print(my_1d_array [0:7]) # 1, 2, 3, 4, 5, 6\n",
    "\n",
    "print('1st_first_5_ta_digit:' ,my_1d_array[:5]) # 1, 2, 3, 4, 5\n",
    "print('1st 3_digit_por_baki_gula:' ,my_1d_array[3:]) # 4, 5, 6\n",
    "\n",
    "print('Every second character:', my_1d_array[::2]) # 1 3 5\n",
    "\n",
    "print('Reverses the string ', my_1d_array [::-1]) \n",
    "print('Reverses the string ', my_1d_array [::-4])\n",
    "\n",
    "\n",
    "print('Array:', my_1d_array)\n",
    "print(my_1d_array[1:4:1]) # 2,3,4\n",
    "\n",
    "print(my_1d_array[1::2]) #  2 4 6\n"
   ]
  },
  {
   "cell_type": "code",
   "execution_count": 5,
   "id": "009bf22d-7970-44fe-9378-efbb6f8a52e9",
   "metadata": {},
   "outputs": [
    {
     "name": "stdout",
     "output_type": "stream",
     "text": [
      "[[2 3]\n",
      " [6 5]]\n"
     ]
    }
   ],
   "source": [
    "my_2d_array = np.array(\n",
    "    [[1, 2, 3, 4], # 0 -3\n",
    "    [5, 6, 5, 8], # 1  -2\n",
    "    [9, 6, 4, 1]] # 2 -1\n",
    ")\n",
    "\n",
    "print(my_2d_array[0:2, 1:3]) \n"
   ]
  },
  {
   "cell_type": "markdown",
   "id": "b3028671-1a26-4a15-8c22-896ac4b4505d",
   "metadata": {},
   "source": [
    "4_Numpy_reshape: Changing_the_shape_of_an_array\n",
    "\n",
    "- Condition: Number_of_elements_must_be_same .\n",
    "- Flatten_the_original_array:\n",
    "- [1, 2, 3, 4, 5, 6, 7, 8, 9, 10, 11, 12, 13, 14, 15]\n",
    "- Reshape_as_desired_shape:\n",
    "- [[[1, 2, 3, 4, 5], [ 6, 7, 8, 9, 10], [11, 12, 13, 14, 15]]]"
   ]
  },
  {
   "cell_type": "code",
   "execution_count": 7,
   "id": "6ec011c8-bfaa-46cc-aa91-fab335689452",
   "metadata": {},
   "outputs": [
    {
     "name": "stdout",
     "output_type": "stream",
     "text": [
      "(3, 5)\n",
      "[[[ 1  2  3  4  1]\n",
      "  [ 5  6  5  8 12]\n",
      "  [ 9  6  4  1 13]]]\n",
      "(1, 3, 5)\n"
     ]
    }
   ],
   "source": [
    "my_2d_array = np.array(\n",
    "    [[1, 2, 3, 4, 1], # 0 -3\n",
    "    [5, 6, 5, 8, 12], # 1  -2\n",
    "    [9, 6, 4, 1, 13]] # 2 -1\n",
    ")\n",
    "\n",
    "print(my_2d_array.shape)\n",
    "my_2d_array_reshaped = my_2d_array.reshape(1, 3, 5)\n",
    "print(my_2d_array_reshaped)\n",
    "print(my_2d_array_reshaped.shape)\n"
   ]
  },
  {
   "cell_type": "markdown",
   "id": "c03d5b60-2790-4069-984b-9a699b6b081d",
   "metadata": {},
   "source": [
    "5_Numpy_Filtering"
   ]
  },
  {
   "cell_type": "code",
   "execution_count": 10,
   "id": "d5d09db4-602a-4de7-80da-96e17fdd5a61",
   "metadata": {},
   "outputs": [
    {
     "name": "stdout",
     "output_type": "stream",
     "text": [
      "[1 3]\n",
      "[1 3 4]\n"
     ]
    }
   ],
   "source": [
    "my_1d_array = np.array(\n",
    "    [1, 2, 3, 4]\n",
    ")\n",
    "\n",
    "filter_mask = [True, False, True, False]\n",
    "filtered_array = my_1d_array[filter_mask]\n",
    "print(filtered_array)\n",
    "\n",
    "indices = [0,2,3]\n",
    "filtered_array = my_1d_array[indices]\n",
    "print(filtered_array)\n"
   ]
  },
  {
   "cell_type": "markdown",
   "id": "490c4498-4d90-4b65-ade7-36ddf9351a3d",
   "metadata": {},
   "source": [
    "6_Vectorization_refers_to_the_process_of_performing_operations\n",
    "- Process_each_operation_perallely\n",
    "- 1%2 2%2  3%2 4%2\n",
    "-  1   0    1   0\n",
    "-  [1, 0, 1, 0,1]"
   ]
  },
  {
   "cell_type": "code",
   "execution_count": 11,
   "id": "42fd953c-9482-45f8-bd63-a24df157a780",
   "metadata": {},
   "outputs": [
    {
     "name": "stdout",
     "output_type": "stream",
     "text": [
      "[1 0 1 0]\n"
     ]
    }
   ],
   "source": [
    "my_1d_array = np.array(\n",
    "    [1, 2, 3, 4]\n",
    ")\n",
    "my_1d_array = my_1d_array % 2\n",
    "print(my_1d_array)"
   ]
  },
  {
   "cell_type": "markdown",
   "id": "c47133cf-419e-42a3-bf60-949074563ee3",
   "metadata": {},
   "source": [
    "6_Broadcasting\n",
    "- Converts smaller-shaped arrays to match larger ones for vectorized operations.\n",
    "- Rule: Shapes are compatible if each dimension is equal or one is 1.\n",
    "- Example:\n",
    "(6, 7) and (6, 1) → ✅ Compatible\n",
    "(6, 7, 8) and (1, 7, 8) → ✅ Broadcasting possible"
   ]
  },
  {
   "cell_type": "code",
   "execution_count": null,
   "id": "e540c3f6-4ad5-4f56-b378-36de19908bbf",
   "metadata": {},
   "outputs": [],
   "source": [
    "w = np.array(\n",
    "    [1, 2],\n",
    ")\n",
    "\n",
    "x = np.array([\n",
    "    [3, 4], \n",
    "    [5, 6],\n",
    "    [7, -8],\n",
    "    [-5, -3]\n",
    "])\n",
    "\n",
    "# Vectorization:\n",
    "#  [3, 4],          [5, 6],    [7, -8],        [-5, -3]\n",
    "#   [1, 2],          [1, 2],    [1, 2],        [1, 2],\n",
    "#  [3, 8]            [5, 12]    [7, -16]       [-5, -6]\n",
    "print(w * x)\n",
    "\n",
    "# Step 1: Match the dimensions of the arrays\n",
    "# Step 2: Duplicate the mismatch dimension items to match the higher dimensional array shape\n",
    "print(w.reshape(1, 2).shape)\n",
    "x.shape\n",
    "\n",
    "w = [[1, 2],\n",
    "     [1, 2],\n",
    "     [1, 2],\n",
    "     [1, 2]]\n",
    "print(w * x)\n"
   ]
  },
  {
   "cell_type": "markdown",
   "id": "0b0d0012-c540-4b56-895a-86a34fde707c",
   "metadata": {},
   "source": []
  },
  {
   "cell_type": "code",
   "execution_count": null,
   "id": "2302a629-0c79-41a8-b1f5-8bd9bf99a6eb",
   "metadata": {},
   "outputs": [],
   "source": []
  }
 ],
 "metadata": {
  "kernelspec": {
   "display_name": "Python 3 (ipykernel)",
   "language": "python",
   "name": "python3"
  },
  "language_info": {
   "codemirror_mode": {
    "name": "ipython",
    "version": 3
   },
   "file_extension": ".py",
   "mimetype": "text/x-python",
   "name": "python",
   "nbconvert_exporter": "python",
   "pygments_lexer": "ipython3",
   "version": "3.13.5"
  }
 },
 "nbformat": 4,
 "nbformat_minor": 5
}
