{
 "cells": [
  {
   "cell_type": "markdown",
   "id": "9a4c98a8-d85a-4f92-9d79-7e0f3b570276",
   "metadata": {},
   "source": [
    "1_Import_the_NumPy_Library_and_Check_Its_Version"
   ]
  },
  {
   "cell_type": "code",
   "execution_count": 8,
   "id": "9b65ceed-7953-4994-9543-9697446a1fe1",
   "metadata": {},
   "outputs": [
    {
     "data": {
      "text/plain": [
       "'2.1.3'"
      ]
     },
     "execution_count": 8,
     "metadata": {},
     "output_type": "execute_result"
    }
   ],
   "source": [
    "import numpy as np\n",
    "np.__version__\n"
   ]
  },
  {
   "cell_type": "markdown",
   "id": "68ee93f1-841f-45b8-8f73-454c1002d2fe",
   "metadata": {},
   "source": [
    "2_Check_the_Data_Type_of_a_Python_List"
   ]
  },
  {
   "cell_type": "code",
   "execution_count": 47,
   "id": "aaf1edf8-94c1-481a-99a4-b629c30c1113",
   "metadata": {},
   "outputs": [
    {
     "name": "stdout",
     "output_type": "stream",
     "text": [
      "\n",
      "original_list_type: <class 'list'>\n"
     ]
    }
   ],
   "source": [
    "my_list = [1, 2, 3, 4, 9.8]\n",
    "print (f\"\\nOriginal_list_type: {type(my_list)}\")"
   ]
  },
  {
   "cell_type": "markdown",
   "id": "1b6a0937-05e6-4615-a311-690abc9a2130",
   "metadata": {},
   "source": [
    "3_How_to_Create_a_NumPy_Array_and_Check \n",
    "Its_Properties(dtype, shape, ndim)"
   ]
  },
  {
   "cell_type": "code",
   "execution_count": 48,
   "id": "f6bc43c5-354b-41c3-bd3c-c84c2d0f4ece",
   "metadata": {},
   "outputs": [
    {
     "name": "stdout",
     "output_type": "stream",
     "text": [
      "\n",
      "numpy_array_type: <class 'numpy.ndarray'>\n"
     ]
    }
   ],
   "source": [
    "my_np_array = np.array(my_list)\n",
    "print (f\"\\nNumpy_array_type: {type(my_np_array)}\")"
   ]
  },
  {
   "cell_type": "markdown",
   "id": "effa6dae-f7fe-474c-9466-e102179b5a18",
   "metadata": {},
   "source": [
    "4_Check_the_Element_Data_Type (dtype)of_a_NumPy_Array"
   ]
  },
  {
   "cell_type": "code",
   "execution_count": 49,
   "id": "f0223523-ddeb-4cee-b700-09ebaeb165d6",
   "metadata": {},
   "outputs": [
    {
     "name": "stdout",
     "output_type": "stream",
     "text": [
      "\n",
      "numpy_array_type (dtype): float64\n"
     ]
    }
   ],
   "source": [
    "print(f\"\\nNumpy_array_type (dtype): {my_np_array.dtype}\")"
   ]
  },
  {
   "cell_type": "markdown",
   "id": "1c5e940e-4047-4603-946a-d8778f6ae11d",
   "metadata": {},
   "source": [
    "5_Check_the_Shape_of_a_NumPy_Array"
   ]
  },
  {
   "cell_type": "code",
   "execution_count": 50,
   "id": "a5bdb167-e136-4506-9525-98ad17878b8f",
   "metadata": {},
   "outputs": [
    {
     "name": "stdout",
     "output_type": "stream",
     "text": [
      "\n",
      "shape (shape): (5,)\n"
     ]
    }
   ],
   "source": [
    "print(f\"\\nShape (shape): {my_np_array.shape}\")"
   ]
  },
  {
   "cell_type": "markdown",
   "id": "f847e1eb-67ab-4934-af44-d3bf5b35625d",
   "metadata": {},
   "source": [
    "6_Check_the_Number_of_Dimensions (ndim) of_a_NumPy_Array"
   ]
  },
  {
   "cell_type": "code",
   "execution_count": 17,
   "id": "2546e76f-be69-4b5e-98f3-95d9f3133179",
   "metadata": {},
   "outputs": [
    {
     "name": "stdout",
     "output_type": "stream",
     "text": [
      "\n",
      "Dimensions (ndim): 1\n"
     ]
    }
   ],
   "source": [
    "print(f\"\\nDimensions (ndim): {my_np_array.ndim}\")"
   ]
  },
  {
   "cell_type": "markdown",
   "id": "0361a336-97ab-4b9e-87e9-dd20ddacce3a",
   "metadata": {},
   "source": [
    "7_Create_a_NumPy_Array_of_Zeros\n",
    "The_default_dtype_is_float64"
   ]
  },
  {
   "cell_type": "code",
   "execution_count": 12,
   "id": "40b5df10-21f1-4cf8-9dc0-b1315d7c164c",
   "metadata": {},
   "outputs": [
    {
     "name": "stdout",
     "output_type": "stream",
     "text": [
      "\n",
      "Zeros_array_dtype: float64\n",
      "\n",
      "Zeros__array: [0. 0. 0. 0. 0.]\n"
     ]
    }
   ],
   "source": [
    "zeros_np_array = np.zeros(shape=(5,))\n",
    "print (f\"\\nZeros_array_dtype: {zeros_np_array.dtype}\")\n",
    "print (f\"\\nZeros__array: {zeros_np_array}\")\n"
   ]
  },
  {
   "cell_type": "markdown",
   "id": "595027b2-3532-49c3-8d8d-78054cbcba29",
   "metadata": {},
   "source": [
    "8_Create_a_Two-Dimensional_NumPy_Array_of_Zeros"
   ]
  },
  {
   "cell_type": "code",
   "execution_count": 16,
   "id": "f4ebb958-57b0-4025-b16a-0140c85343b8",
   "metadata": {},
   "outputs": [
    {
     "name": "stdout",
     "output_type": "stream",
     "text": [
      "\n",
      "Zeros_array_dtype: float64\n",
      "Zeros__array:\n",
      " [[0. 0.]\n",
      " [0. 0.]\n",
      " [0. 0.]]\n"
     ]
    }
   ],
   "source": [
    "zeros_np_array = np.zeros(shape=(3,2))\n",
    "print (f\"\\nZeros_array_dtype: {zeros_np_array.dtype}\")\n",
    "print (f\"Zeros__array:\\n {zeros_np_array}\")"
   ]
  },
  {
   "cell_type": "markdown",
   "id": "a8f8cc6b-f6fb-4bd4-acbd-b60d82b1698e",
   "metadata": {},
   "source": [
    "9_Create_a_Three-Dimensional_NumPy_Array_of_Zeros"
   ]
  },
  {
   "cell_type": "code",
   "execution_count": 25,
   "id": "1a5bfd5d-11a0-49fd-b1d9-eaeae2bf1bed",
   "metadata": {},
   "outputs": [
    {
     "name": "stdout",
     "output_type": "stream",
     "text": [
      "\n",
      "Zeros_array_dtype: float64\n",
      "Zeros__array:\n",
      " [[[0. 0. 0. 0. 0. 0. 0.]\n",
      "  [0. 0. 0. 0. 0. 0. 0.]]\n",
      "\n",
      " [[0. 0. 0. 0. 0. 0. 0.]\n",
      "  [0. 0. 0. 0. 0. 0. 0.]]\n",
      "\n",
      " [[0. 0. 0. 0. 0. 0. 0.]\n",
      "  [0. 0. 0. 0. 0. 0. 0.]]]\n"
     ]
    }
   ],
   "source": [
    "zeros_np_array = np.zeros(shape=(3,2,7))\n",
    "print (f\"\\nZeros_array_dtype: {zeros_np_array.dtype}\")\n",
    "print (f\"Zeros__array:\\n {zeros_np_array}\")"
   ]
  },
  {
   "cell_type": "markdown",
   "id": "6d35f470-ab33-41fd-81c6-633d2b4065b2",
   "metadata": {},
   "source": [
    "10_Create_a_Two-Dimensional_NumPy_Array_of_Ones (with int32 Data Type)"
   ]
  },
  {
   "cell_type": "code",
   "execution_count": 30,
   "id": "eb8739c8-0459-4183-8afe-1c088fe86a40",
   "metadata": {},
   "outputs": [
    {
     "name": "stdout",
     "output_type": "stream",
     "text": [
      "\n",
      "Zeros_array_dtype: int32\n",
      "Zeros__array:\n",
      " [[1 1]\n",
      " [1 1]\n",
      " [1 1]]\n"
     ]
    }
   ],
   "source": [
    "zeros_np_array = np.ones(shape=(3,2), dtype='int32')\n",
    "print (f\"\\nZeros_array_dtype: {zeros_np_array.dtype}\")\n",
    "print (f\"Zeros__array:\\n {zeros_np_array}\")"
   ]
  },
  {
   "cell_type": "markdown",
   "id": "22013ad9-ed3a-4f68-b684-6f051cea582b",
   "metadata": {},
   "source": [
    "11_Create_an_Array_with_a_Specific_Value"
   ]
  },
  {
   "cell_type": "code",
   "execution_count": 36,
   "id": "bc57457f-44be-4e9d-8879-93f46ee205e2",
   "metadata": {},
   "outputs": [
    {
     "name": "stdout",
     "output_type": "stream",
     "text": [
      "\n",
      "full_array:\n",
      " [[15 15]\n",
      " [15 15]\n",
      " [15 15]]\n",
      "\n",
      "array_dtype: int64\n"
     ]
    }
   ],
   "source": [
    "assigned_with_np_array = np.full(shape=(3,2), fill_value=15)\n",
    "print (f\"\\nFull_array:\\n {assigned_with_np_array}\")\n",
    "print (f\"\\nArray_dtype: {assigned_with_np_array.dtype}\")\n"
   ]
  },
  {
   "cell_type": "markdown",
   "id": "11072d8a-4fd3-484b-9e84-ab3bb5a5394b",
   "metadata": {},
   "source": [
    "12_Create_an_Identity_Matrix"
   ]
  },
  {
   "cell_type": "code",
   "execution_count": 37,
   "id": "48ef503b-b61d-48f6-842c-6a3d405a2b57",
   "metadata": {},
   "outputs": [
    {
     "name": "stdout",
     "output_type": "stream",
     "text": [
      "\n",
      "Identity_matrix:\n",
      "[[1. 0. 0. 0.]\n",
      " [0. 1. 0. 0.]\n",
      " [0. 0. 1. 0.]\n",
      " [0. 0. 0. 1.]]\n"
     ]
    }
   ],
   "source": [
    "id_matrix = np.eye(4)\n",
    "print(f\"\\nIdentity_matrix:\\n{id_matrix}\")"
   ]
  },
  {
   "cell_type": "markdown",
   "id": "d7b7a161-9c84-4972-8aa3-16e1b6edd743",
   "metadata": {},
   "source": [
    "13_Create_an_Empty_Array"
   ]
  },
  {
   "cell_type": "code",
   "execution_count": 41,
   "id": "558dab8c-bf89-4aad-b1ba-610db93ddf55",
   "metadata": {},
   "outputs": [
    {
     "name": "stdout",
     "output_type": "stream",
     "text": [
      "\n",
      "Empty_Array:\n",
      "[1.  2.  3.  4.  9.8]\n"
     ]
    }
   ],
   "source": [
    "my_empty_np_array = np.empty(shape=(5,))\n",
    "print(f\"\\nEmpty_Array:\\n{my_empty_np_array}\")"
   ]
  },
  {
   "cell_type": "markdown",
   "id": "2ab3670c-2034-4604-bca5-d212cc2a5397",
   "metadata": {},
   "source": [
    "14_Type_Casting_in_NumPy"
   ]
  },
  {
   "cell_type": "code",
   "execution_count": 44,
   "id": "01acf8c5-a5c6-445b-a823-b0011a5577d5",
   "metadata": {},
   "outputs": [
    {
     "name": "stdout",
     "output_type": "stream",
     "text": [
      "\n",
      "Empty_Array_dtype_before_cast:\n",
      "float64\n",
      "\n",
      "Empty_Array_content_after_int_cast:\n",
      "[1 2 3 4 9]\n",
      "\n",
      "Empty_Array_dtype_after_cast:\n",
      "int32\n"
     ]
    }
   ],
   "source": [
    "print(f\"\\nEmpty_Array_dtype_before_cast:\\n{my_empty_np_array.dtype}\")\n",
    "\n",
    "my_empty_np_array_int = my_empty_np_array.astype('int32')\n",
    "\n",
    "print(f\"\\nEmpty_Array_content_after_int_cast:\\n{my_empty_np_array_int}\")\n",
    "print(f\"\\nEmpty_Array_dtype_after_cast:\\n{my_empty_np_array_int.dtype}\")\n"
   ]
  },
  {
   "cell_type": "markdown",
   "id": "1e87c803-90aa-4968-8300-fa446b68a936",
   "metadata": {},
   "source": [
    "15_Create_a_Sequential_Array (similar to Python’s range)"
   ]
  },
  {
   "cell_type": "code",
   "execution_count": 45,
   "id": "33ed8c5b-59a3-4a97-b414-a7aad481f885",
   "metadata": {},
   "outputs": [
    {
     "name": "stdout",
     "output_type": "stream",
     "text": [
      "\n",
      "Sequential_array (array): [ 1  2  3  4  5  6  7  8  9 10]\n"
     ]
    }
   ],
   "source": [
    "my_array = np.arange(start=1, stop=11, step=1)\n",
    "print(f\"\\nSequential_array (array): {my_array}\")"
   ]
  },
  {
   "cell_type": "markdown",
   "id": "8d321690-cd27-4d16-8ae5-6632d019f0e6",
   "metadata": {},
   "source": [
    "16_Create_a_Linearly_Spaced_Array\n",
    "np.linspace(start, stop, num) - stop_is_inclussive\n",
    "The_array_has_'num'_equally_spaced_samples_between_srart_and_stop."
   ]
  },
  {
   "cell_type": "code",
   "execution_count": 46,
   "id": "a05182d1-14b1-4f76-8dc5-b83f2fdca05b",
   "metadata": {},
   "outputs": [
    {
     "name": "stdout",
     "output_type": "stream",
     "text": [
      "\n",
      "Linearly_space__array (linspace): [ 0.          0.1010101   0.2020202   0.3030303   0.4040404   0.50505051\n",
      "  0.60606061  0.70707071  0.80808081  0.90909091  1.01010101  1.11111111\n",
      "  1.21212121  1.31313131  1.41414141  1.51515152  1.61616162  1.71717172\n",
      "  1.81818182  1.91919192  2.02020202  2.12121212  2.22222222  2.32323232\n",
      "  2.42424242  2.52525253  2.62626263  2.72727273  2.82828283  2.92929293\n",
      "  3.03030303  3.13131313  3.23232323  3.33333333  3.43434343  3.53535354\n",
      "  3.63636364  3.73737374  3.83838384  3.93939394  4.04040404  4.14141414\n",
      "  4.24242424  4.34343434  4.44444444  4.54545455  4.64646465  4.74747475\n",
      "  4.84848485  4.94949495  5.05050505  5.15151515  5.25252525  5.35353535\n",
      "  5.45454545  5.55555556  5.65656566  5.75757576  5.85858586  5.95959596\n",
      "  6.06060606  6.16161616  6.26262626  6.36363636  6.46464646  6.56565657\n",
      "  6.66666667  6.76767677  6.86868687  6.96969697  7.07070707  7.17171717\n",
      "  7.27272727  7.37373737  7.47474747  7.57575758  7.67676768  7.77777778\n",
      "  7.87878788  7.97979798  8.08080808  8.18181818  8.28282828  8.38383838\n",
      "  8.48484848  8.58585859  8.68686869  8.78787879  8.88888889  8.98989899\n",
      "  9.09090909  9.19191919  9.29292929  9.39393939  9.49494949  9.5959596\n",
      "  9.6969697   9.7979798   9.8989899  10.        ]\n"
     ]
    }
   ],
   "source": [
    "my_np_array = np.linspace(start=0,stop=10,num=100)\n",
    "print(f\"\\nLinearly_space__array (linspace): {my_np_array}\")"
   ]
  },
  {
   "cell_type": "code",
   "execution_count": null,
   "id": "76d70ce8-a6ec-4442-9a74-ed65651df7bf",
   "metadata": {},
   "outputs": [],
   "source": []
  }
 ],
 "metadata": {
  "kernelspec": {
   "display_name": "Python 3 (ipykernel)",
   "language": "python",
   "name": "python3"
  },
  "language_info": {
   "codemirror_mode": {
    "name": "ipython",
    "version": 3
   },
   "file_extension": ".py",
   "mimetype": "text/x-python",
   "name": "python",
   "nbconvert_exporter": "python",
   "pygments_lexer": "ipython3",
   "version": "3.13.5"
  }
 },
 "nbformat": 4,
 "nbformat_minor": 5
}
