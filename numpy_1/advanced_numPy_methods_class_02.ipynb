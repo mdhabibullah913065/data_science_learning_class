{
 "cells": [
  {
   "cell_type": "markdown",
   "id": "1dec790e-faaf-49ed-9f5d-a0d020666712",
   "metadata": {},
   "source": [
    "1_Multidimensional_NumPy_Arrays\n",
    "- Mathematical_Objects:\n",
    "- Scalar (0D), Vector (1D), Matrix (2D), Tensor (XD Where x > 2)"
   ]
  },
  {
   "cell_type": "code",
   "execution_count": 2,
   "id": "daea1273-0368-4b19-931c-7b4e5030bb22",
   "metadata": {},
   "outputs": [
    {
     "name": "stdout",
     "output_type": "stream",
     "text": [
      "Sclar: 90\n",
      "Dimension: 0\n",
      "vector: [1 2 3]\n",
      "Dimension: 1\n",
      "Metrix: [[1 2 3]\n",
      " [4 5 6]\n",
      " [7 8 9]]\n",
      "Dimension: 2\n",
      "Tensor: [[[[1]]]]\n",
      "Dimension: 4\n"
     ]
    }
   ],
   "source": [
    "import numpy as np\n",
    "\n",
    "scalar = np.array(90) # 0D\n",
    "vector = np.array(\n",
    "    [1, 2, 3]  # 1D\n",
    ")\n",
    "\n",
    "metrix = np.array(\n",
    "    [ [1, 2, 3], \n",
    "    [4,5,6],\n",
    "    [7,8,9] ] #2D\n",
    ")\n",
    "\n",
    "tensor = np.array(\n",
    "    [[[[1]]]]  # 4D\n",
    ")\n",
    "\n",
    "print('Sclar:', scalar)\n",
    "print('Dimension:', scalar.ndim)\n",
    "\n",
    "print('vector:', vector)\n",
    "print('Dimension:', vector.ndim)\n",
    "\n",
    "print('Metrix:', metrix)\n",
    "print('Dimension:', metrix.ndim)\n",
    "\n",
    "print('Tensor:', tensor)\n",
    "print('Dimension:', tensor.ndim)\n"
   ]
  },
  {
   "cell_type": "markdown",
   "id": "d75b62f5-01b4-4e83-831d-2df3ad6fd65c",
   "metadata": {},
   "source": [
    "2_Numpy_Indexing"
   ]
  },
  {
   "cell_type": "code",
   "execution_count": 25,
   "id": "864af2d5-34a2-411c-bfa2-7de0bc9398c0",
   "metadata": {},
   "outputs": [
    {
     "name": "stdout",
     "output_type": "stream",
     "text": [
      "1\n",
      "1\n",
      "5\n",
      "5\n"
     ]
    }
   ],
   "source": [
    "my_1d_array = np.array(\n",
    "    [1, 2, 3, 4]\n",
    ")\n",
    "\n",
    "print(my_1d_array[0])\n",
    "print(my_1d_array[-4])\n",
    "\n",
    "my_2d_array = np.array(\n",
    "    [[1, 2, 3, 4], # 0 -3\n",
    "    [5, 6, 5, 8], # 1  -2\n",
    "    [9, 6, 4, 1]] # 2 -1\n",
    ")\n",
    "\n",
    "print(my_2d_array[1,2])\n",
    "print(my_2d_array[-2,-2]) # nagative_indexing"
   ]
  },
  {
   "cell_type": "code",
   "execution_count": 28,
   "id": "91f03af2-3957-4b59-87d7-d73e5a5fcaf9",
   "metadata": {},
   "outputs": [
    {
     "data": {
      "text/plain": [
       "(1, 2, 2)"
      ]
     },
     "execution_count": 28,
     "metadata": {},
     "output_type": "execute_result"
    }
   ],
   "source": [
    "my_3d_array = np.array(\n",
    "    [\n",
    "        [\n",
    "            [1, 2 ],\n",
    "            [5, 6 ],\n",
    "        ]\n",
    "    ]\n",
    ") \n",
    "\n",
    "my_3d_array.shape \n",
    "# 1*2*2  Note: 1--> There_is_1_block, 2--> 2_rows_in_each_ block 2---> 2_elements in_each_row"
   ]
  },
  {
   "cell_type": "code",
   "execution_count": 39,
   "id": "2cc73ca8-a6f7-4fa9-beba-cf4de8894a3e",
   "metadata": {},
   "outputs": [
    {
     "data": {
      "text/plain": [
       "np.int64(6)"
      ]
     },
     "execution_count": 39,
     "metadata": {},
     "output_type": "execute_result"
    }
   ],
   "source": [
    "my_3d_array = np.array(\n",
    "    [\n",
    "        [ # 1st_block\n",
    "            [1, 2 ],\n",
    "            [3, 4 ],\n",
    "        ],\n",
    "        [ # 2nd_block\n",
    "            [5, 6],\n",
    "            [7, 8 ],\n",
    "        ]\n",
    "    ]\n",
    ") \n",
    "\n",
    "my_3d_array.shape\n",
    "# 2*2*2 Note: 2_layers/block (depth = 2), 2_rows_in_each_layer , 2_elements_in_each_row\n",
    "\n",
    "my_3d_array[1][0][1] # Note: 2nd_block → [1] , block_1st _row → [0], row_2nd_element → [1]\n",
    "my_3d_array[-1][0][-1] # nagative_indexing"
   ]
  },
  {
   "cell_type": "markdown",
   "id": "8bf4e471-ae27-4726-a4b6-b45094a92b38",
   "metadata": {},
   "source": [
    "3_Numpy_Slicing\n",
    "- arguments_with_default_values: start=0, stop_n, step=1\n",
    "- array_name [start:stop:step]\n",
    "- end_index_is_excluded"
   ]
  },
  {
   "cell_type": "code",
   "execution_count": 53,
   "id": "1e124fa7-0828-4617-bee0-e3eb0451c422",
   "metadata": {},
   "outputs": [
    {
     "name": "stdout",
     "output_type": "stream",
     "text": [
      "[2 3 4]\n",
      "[1 2 3 4 5 6]\n",
      "1st_first_5_ta_digit: [1 2 3 4 5]\n",
      "1st 3_digit_por_baki_gula: [4 5 6]\n",
      "Every second character: [1 3 5]\n",
      "Reverses the string  [6 5 4 3 2 1]\n",
      "Reverses the string  [6 2]\n",
      "Array: [1 2 3 4 5 6]\n",
      "[2 3 4]\n",
      "[2 4 6]\n"
     ]
    }
   ],
   "source": [
    "my_1d_array = np.array(\n",
    "    [1, 2, 3, 4, 5, 6 ]\n",
    ")\n",
    "\n",
    "print(my_1d_array [1:4]) # 2, 3, 4\n",
    "print(my_1d_array [0:7]) # 1, 2, 3, 4, 5, 6\n",
    "\n",
    "print('1st_first_5_ta_digit:' ,my_1d_array[:5]) # 1, 2, 3, 4, 5\n",
    "print('1st 3_digit_por_baki_gula:' ,my_1d_array[3:]) # 4, 5, 6\n",
    "\n",
    "print('Every second character:', my_1d_array[::2]) # 1 3 5\n",
    "\n",
    "print('Reverses the string ', my_1d_array [::-1]) \n",
    "print('Reverses the string ', my_1d_array [::-4])\n",
    "\n",
    "\n",
    "print('Array:', my_1d_array)\n",
    "print(my_1d_array[1:4:1]) # 2,3,4\n",
    "\n",
    "print(my_1d_array[1::2]) #  2 4 6\n"
   ]
  },
  {
   "cell_type": "code",
   "execution_count": 5,
   "id": "009bf22d-7970-44fe-9378-efbb6f8a52e9",
   "metadata": {},
   "outputs": [
    {
     "name": "stdout",
     "output_type": "stream",
     "text": [
      "[[2 3]\n",
      " [6 5]]\n"
     ]
    }
   ],
   "source": [
    "my_2d_array = np.array(\n",
    "    [[1, 2, 3, 4], # 0 -3\n",
    "    [5, 6, 5, 8], # 1  -2\n",
    "    [9, 6, 4, 1]] # 2 -1\n",
    ")\n",
    "\n",
    "print(my_2d_array[0:2, 1:3]) \n"
   ]
  },
  {
   "cell_type": "markdown",
   "id": "b3028671-1a26-4a15-8c22-896ac4b4505d",
   "metadata": {},
   "source": [
    "4_Numpy_reshape: Changing_the_shape_of_an_array\n",
    "\n",
    "- Condition: Number_of_elements_must_be_same .\n",
    "- Flatten_the_original_array:\n",
    "- [1, 2, 3, 4, 5, 6, 7, 8, 9, 10, 11, 12, 13, 14, 15]\n",
    "- Reshape_as_desired_shape:\n",
    "- [[[1, 2, 3, 4, 5], [ 6, 7, 8, 9, 10], [11, 12, 13, 14, 15]]]"
   ]
  },
  {
   "cell_type": "code",
   "execution_count": 7,
   "id": "6ec011c8-bfaa-46cc-aa91-fab335689452",
   "metadata": {},
   "outputs": [
    {
     "name": "stdout",
     "output_type": "stream",
     "text": [
      "(3, 5)\n",
      "[[[ 1  2  3  4  1]\n",
      "  [ 5  6  5  8 12]\n",
      "  [ 9  6  4  1 13]]]\n",
      "(1, 3, 5)\n"
     ]
    }
   ],
   "source": [
    "my_2d_array = np.array(\n",
    "    [[1, 2, 3, 4, 1], # 0 -3\n",
    "    [5, 6, 5, 8, 12], # 1  -2\n",
    "    [9, 6, 4, 1, 13]] # 2 -1\n",
    ")\n",
    "\n",
    "print(my_2d_array.shape)\n",
    "my_2d_array_reshaped = my_2d_array.reshape(1, 3, 5)\n",
    "print(my_2d_array_reshaped)\n",
    "print(my_2d_array_reshaped.shape)\n"
   ]
  },
  {
   "cell_type": "markdown",
   "id": "c03d5b60-2790-4069-984b-9a699b6b081d",
   "metadata": {},
   "source": [
    "5_Numpy_Filtering"
   ]
  },
  {
   "cell_type": "code",
   "execution_count": 10,
   "id": "d5d09db4-602a-4de7-80da-96e17fdd5a61",
   "metadata": {},
   "outputs": [
    {
     "name": "stdout",
     "output_type": "stream",
     "text": [
      "[1 3]\n",
      "[1 3 4]\n"
     ]
    }
   ],
   "source": [
    "my_1d_array = np.array(\n",
    "    [1, 2, 3, 4]\n",
    ")\n",
    "\n",
    "filter_mask = [True, False, True, False]\n",
    "filtered_array = my_1d_array[filter_mask]\n",
    "print(filtered_array)\n",
    "\n",
    "indices = [0,2,3]\n",
    "filtered_array = my_1d_array[indices]\n",
    "print(filtered_array)\n"
   ]
  },
  {
   "cell_type": "markdown",
   "id": "490c4498-4d90-4b65-ade7-36ddf9351a3d",
   "metadata": {},
   "source": [
    "6_Vectorization_refers_to_the_process_of_performing_operations\n",
    "- Process_each_operation_perallely\n",
    "- 1%2 2%2  3%2 4%2\n",
    "-  1   0    1   0\n",
    "-  [1, 0, 1, 0,1]"
   ]
  },
  {
   "cell_type": "code",
   "execution_count": 11,
   "id": "42fd953c-9482-45f8-bd63-a24df157a780",
   "metadata": {},
   "outputs": [
    {
     "name": "stdout",
     "output_type": "stream",
     "text": [
      "[1 0 1 0]\n"
     ]
    }
   ],
   "source": [
    "my_1d_array = np.array(\n",
    "    [1, 2, 3, 4]\n",
    ")\n",
    "my_1d_array = my_1d_array % 2\n",
    "print(my_1d_array)"
   ]
  },
  {
   "cell_type": "markdown",
   "id": "c47133cf-419e-42a3-bf60-949074563ee3",
   "metadata": {},
   "source": [
    "6_Broadcasting\n",
    "- Converts smaller-shaped arrays to match larger ones for vectorized operations.\n",
    "- Rule: Shapes are compatible if each dimension is equal or one is 1.\n",
    "- Example:\n",
    "(6, 7) and (6, 1) → ✅ Compatible\n",
    "(6, 7, 8) and (1, 7, 8) → ✅ Broadcasting possible"
   ]
  },
  {
   "cell_type": "code",
   "execution_count": null,
   "id": "e540c3f6-4ad5-4f56-b378-36de19908bbf",
   "metadata": {},
   "outputs": [],
   "source": [
    "w = np.array(\n",
    "    [1, 2],\n",
    ")\n",
    "\n",
    "x = np.array([\n",
    "    [3, 4], \n",
    "    [5, 6],\n",
    "    [7, -8],\n",
    "    [-5, -3]\n",
    "])\n",
    "\n",
    "# Vectorization:\n",
    "#  [3, 4],          [5, 6],    [7, -8],        [-5, -3]\n",
    "#   [1, 2],          [1, 2],    [1, 2],        [1, 2],\n",
    "#  [3, 8]            [5, 12]    [7, -16]       [-5, -6]\n",
    "print(w * x)\n",
    "\n",
    "# Step 1: Match the dimensions of the arrays\n",
    "# Step 2: Duplicate the mismatch dimension items to match the higher dimensional array shape\n",
    "print(w.reshape(1, 2).shape)\n",
    "x.shape\n",
    "\n",
    "w = [[1, 2],\n",
    "     [1, 2],\n",
    "     [1, 2],\n",
    "     [1, 2]]\n",
    "print(w * x)\n"
   ]
  },
  {
   "cell_type": "markdown",
   "id": "0b0d0012-c540-4b56-895a-86a34fde707c",
   "metadata": {},
   "source": [
    "7_Numpy axis \n",
    "\n",
    "- First dimension: axis=0\n",
    "- Second dimension: axis=1\n",
    "- Third dimension: axis=2\n",
    "- Nth dimension: axis=N-1\n",
    "- Aggregation function: sum, min, max, median\n"
   ]
  },
  {
   "cell_type": "code",
   "execution_count": 3,
   "id": "2302a629-0c79-41a8-b1f5-8bd9bf99a6eb",
   "metadata": {},
   "outputs": [
    {
     "name": "stdout",
     "output_type": "stream",
     "text": [
      "14\n",
      "(2, 3)\n",
      "[ 4 10]\n",
      "[1 6 7]\n",
      "(3,)\n"
     ]
    }
   ],
   "source": [
    "my_np_array = np.array(\n",
    "    [\n",
    "        [1, 5, -2],\n",
    "        [0, 1, 9]\n",
    "    ]\n",
    ")\n",
    "\n",
    "sum_all_elements = np.sum(my_np_array)\n",
    "print(sum_all_elements)\n",
    "print(my_np_array.shape)\n",
    "\n",
    "sum_row_wise = np.sum(my_np_array, axis=1)\n",
    "print(sum_row_wise)\n",
    "\n",
    "sum_row_wise = np.sum(my_np_array, axis=0)\n",
    "print(sum_row_wise)\n",
    "print(sum_row_wise.shape)\n",
    "\n",
    "my_np_3d = np.zeros(\n",
    "    shape=(3, 2, 2)\n",
    ")\n",
    "\n",
    "# np.sum at axis=0,\n",
    "#    element 1: [[2, 2], \n",
    "#               [1, 1]]\n",
    "#    element 2: [[3, 1],           \n",
    "#               [4, 3]]\n",
    "#    element 3: [[9, -2], \n",
    "#               [1, 1]]\n",
    "\n",
    "print(np.sum(my_np_3d, axis=0).shape)\n",
    "print(np.sum(my_np_3d, axis=1).shape)\n",
    "print(np.sum(my_np_3d, axis=2).shape)"
   ]
  },
  {
   "cell_type": "markdown",
   "id": "8f6e9620-e345-46e8-8b33-f8f40ebea59b",
   "metadata": {},
   "source": [
    "8_numpy random \n",
    "\n",
    "- rand(): returns a random value between [0, 1]\n",
    "- randint(x): returns a random value between [0, x) \n",
    "- randint(x, size): returns a random array between [0, x) of size\n",
    "- shuffle(): shuffle an array"
   ]
  },
  {
   "cell_type": "code",
   "execution_count": null,
   "id": "02b49e9a-2189-4c3a-a170-0fb0d66a2f9e",
   "metadata": {},
   "outputs": [],
   "source": [
    "print(np.random.rand())\n",
    "print(np.random.rand(2, 5))\n",
    "\n",
    "print(type(np.random.rand(5)))\n",
    "print(np.random.randint(100))\n",
    "\n",
    "my_array = np.random.randint(100, size=(5,2))\n",
    "print(my_array)\n",
    "\n",
    "np.random.shuffle(my_array)\n",
    "print(my_array)\n"
   ]
  },
  {
   "cell_type": "markdown",
   "id": "5c0f7c2c-c0a8-4e11-ae02-ff9c8e22c9a5",
   "metadata": {},
   "source": [
    "9_Useful_methods"
   ]
  },
  {
   "cell_type": "code",
   "execution_count": null,
   "id": "928b2aa2-dff8-4fbe-be5f-786e7d723bc7",
   "metadata": {},
   "outputs": [],
   "source": [
    "probabilities = np.array([0.3, 0.1, 0.4, 0.2])\n",
    "\n",
    "probabilities_sorted = np.sort(probabilities)\n",
    "print(probabilities_sorted)\n",
    "\n",
    "probabilities_reverse_sorted = np.sort(probabilities)[::-1]\n",
    "print(probabilities_reverse_sorted)"
   ]
  },
  {
   "cell_type": "markdown",
   "id": "1a158f6b-2add-4967-bfa9-80fb9c5b7e04",
   "metadata": {},
   "source": [
    "10_Argmax_Argmin"
   ]
  },
  {
   "cell_type": "code",
   "execution_count": null,
   "id": "1d693261-4d11-4bef-afc0-f8036661ae82",
   "metadata": {},
   "outputs": [],
   "source": [
    "index_max = np.argmax(probabilities)\n",
    "print(index_max)\n",
    "\n",
    "index_max = np.argmin(probabilities)\n",
    "print(index_max)"
   ]
  },
  {
   "cell_type": "markdown",
   "id": "8ec38892-2f2a-4392-989e-cee81a85ea44",
   "metadata": {},
   "source": [
    "11_Split "
   ]
  },
  {
   "cell_type": "code",
   "execution_count": null,
   "id": "a1d80308-0d7d-4d19-afef-df2aa548029e",
   "metadata": {},
   "outputs": [],
   "source": [
    "my_np_array = np.array([1, 5, 1, 1, 5, 7])\n",
    "\n",
    "new_np_array = np.split(\n",
    "    my_np_array, \n",
    "    indices_or_sections=3\n",
    ")\n",
    "print(new_np_array)\n",
    "print(new_np_array[0])\n",
    "print(new_np_array[1])\n",
    "print(new_np_array[2])\n",
    "\n",
    "\n",
    "my_np_array_1 = np.array(\n",
    "    [1, 2, 3]\n",
    ")\n",
    "\n",
    "my_np_array_2 = np.array(\n",
    "    [3, 4, 3]\n",
    ")\n",
    "\n",
    "print(my_np_array_1)\n",
    "print(my_np_array_2)\n",
    "\n",
    "dot_product = np.dot(my_np_array_1, my_np_array_2)\n",
    "print(dot_product)"
   ]
  },
  {
   "cell_type": "markdown",
   "id": "5bc0f691-3ce7-4442-892f-62afa74c5618",
   "metadata": {},
   "source": [
    "12_matrix_transpose"
   ]
  },
  {
   "cell_type": "code",
   "execution_count": null,
   "id": "b98f05d2-180e-420c-8e6b-16c185fd0808",
   "metadata": {},
   "outputs": [],
   "source": [
    "my_2d_array_1 = np.array(\n",
    "    [[2, 1, 3],\n",
    "     [7, 5, 6]]\n",
    ")\n",
    "\n",
    "print(my_2d_array_1.shape)\n",
    "print(my_2d_array_1.T)\n",
    "print(my_2d_array_1.T.shape)\n",
    "\n",
    "print(my_np_array_1)\n",
    "\n",
    "print(np.mean(my_np_array_1))\n",
    "print(np.median(my_np_array_1))\n",
    "print(np.std(my_np_array_1))"
   ]
  }
 ],
 "metadata": {
  "kernelspec": {
   "display_name": "Python 3 (ipykernel)",
   "language": "python",
   "name": "python3"
  },
  "language_info": {
   "codemirror_mode": {
    "name": "ipython",
    "version": 3
   },
   "file_extension": ".py",
   "mimetype": "text/x-python",
   "name": "python",
   "nbconvert_exporter": "python",
   "pygments_lexer": "ipython3",
   "version": "3.13.5"
  }
 },
 "nbformat": 4,
 "nbformat_minor": 5
}
