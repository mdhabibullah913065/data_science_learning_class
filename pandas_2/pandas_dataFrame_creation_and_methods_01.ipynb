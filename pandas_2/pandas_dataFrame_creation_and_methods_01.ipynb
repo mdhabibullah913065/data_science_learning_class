{
 "cells": [
  {
   "cell_type": "markdown",
   "id": "338caff7-6dcb-4200-bff0-fcac6340ef95",
   "metadata": {},
   "source": [
    "- Pandas is a Python library for working with tabular data.\n",
    "- Pandas is used to analyze, clean, explore, and manipulate tabular data.\n",
    "- Pandas allows us to analyze big data and make conclusions based on statistical\n",
    "theories"
   ]
  },
  {
   "cell_type": "code",
   "execution_count": 2,
   "id": "aa5be85a-eda5-4cb2-8822-56ce08a698c8",
   "metadata": {},
   "outputs": [
    {
     "data": {
      "text/plain": [
       "'2.2.3'"
      ]
     },
     "execution_count": 2,
     "metadata": {},
     "output_type": "execute_result"
    }
   ],
   "source": [
    "import pandas as pd\n",
    "\n",
    "pd.__version__"
   ]
  },
  {
   "cell_type": "markdown",
   "id": "25675038-8d11-4e1c-b721-a513fe2937f3",
   "metadata": {},
   "source": [
    "1_Pandas Dataframe:  A_data_structure_for_tabular_data"
   ]
  },
  {
   "cell_type": "code",
   "execution_count": 13,
   "id": "cc8a686f-467f-4aa3-a3df-7ba6f03a1ece",
   "metadata": {},
   "outputs": [
    {
     "name": "stdout",
     "output_type": "stream",
     "text": [
      "<class 'pandas.core.frame.DataFrame'>\n"
     ]
    },
    {
     "data": {
      "text/html": [
       "<div>\n",
       "<style scoped>\n",
       "    .dataframe tbody tr th:only-of-type {\n",
       "        vertical-align: middle;\n",
       "    }\n",
       "\n",
       "    .dataframe tbody tr th {\n",
       "        vertical-align: top;\n",
       "    }\n",
       "\n",
       "    .dataframe thead th {\n",
       "        text-align: right;\n",
       "    }\n",
       "</style>\n",
       "<table border=\"1\" class=\"dataframe\">\n",
       "  <thead>\n",
       "    <tr style=\"text-align: right;\">\n",
       "      <th></th>\n",
       "      <th>height</th>\n",
       "      <th>weight</th>\n",
       "      <th>bmi</th>\n",
       "      <th>smoker</th>\n",
       "    </tr>\n",
       "  </thead>\n",
       "  <tbody>\n",
       "    <tr>\n",
       "      <th>0</th>\n",
       "      <td>5.5</td>\n",
       "      <td>57</td>\n",
       "      <td>19.3</td>\n",
       "      <td>Yes</td>\n",
       "    </tr>\n",
       "    <tr>\n",
       "      <th>1</th>\n",
       "      <td>5.5</td>\n",
       "      <td>62</td>\n",
       "      <td>12.7</td>\n",
       "      <td>No</td>\n",
       "    </tr>\n",
       "    <tr>\n",
       "      <th>2</th>\n",
       "      <td>A</td>\n",
       "      <td>72</td>\n",
       "      <td>20.3</td>\n",
       "      <td>None</td>\n",
       "    </tr>\n",
       "    <tr>\n",
       "      <th>3</th>\n",
       "      <td>5.8</td>\n",
       "      <td>75</td>\n",
       "      <td>NaN</td>\n",
       "      <td>Yes</td>\n",
       "    </tr>\n",
       "  </tbody>\n",
       "</table>\n",
       "</div>"
      ],
      "text/plain": [
       "  height  weight   bmi smoker\n",
       "0    5.5      57  19.3    Yes\n",
       "1    5.5      62  12.7     No\n",
       "2      A      72  20.3   None\n",
       "3    5.8      75   NaN    Yes"
      ]
     },
     "execution_count": 13,
     "metadata": {},
     "output_type": "execute_result"
    }
   ],
   "source": [
    "health_data_table = {\n",
    "    \"height\": [5.5, 5.5, 'A', 5.8],\n",
    "    \"weight\": [57, 62, 72, 75],\n",
    "    \"bmi\": [19.3, 12.7, 20.3, None],\n",
    "    'smoker': ['Yes', 'No', None, 'Yes'],\n",
    "}\n",
    "\n",
    "health_data_frame = pd.DataFrame(\n",
    "    health_data_table\n",
    ")\n",
    "\n",
    "print(type(health_data_frame))\n",
    "\n",
    "# Displays_the_first_few_rows_of _a_DataFrame\n",
    "health_data_frame.head()\n"
   ]
  },
  {
   "cell_type": "code",
   "execution_count": 14,
   "id": "c638ee0c-41af-4bac-a0bf-0cc63cf0f117",
   "metadata": {},
   "outputs": [
    {
     "data": {
      "text/html": [
       "<div>\n",
       "<style scoped>\n",
       "    .dataframe tbody tr th:only-of-type {\n",
       "        vertical-align: middle;\n",
       "    }\n",
       "\n",
       "    .dataframe tbody tr th {\n",
       "        vertical-align: top;\n",
       "    }\n",
       "\n",
       "    .dataframe thead th {\n",
       "        text-align: right;\n",
       "    }\n",
       "</style>\n",
       "<table border=\"1\" class=\"dataframe\">\n",
       "  <thead>\n",
       "    <tr style=\"text-align: right;\">\n",
       "      <th></th>\n",
       "      <th>height</th>\n",
       "      <th>weight</th>\n",
       "      <th>bmi</th>\n",
       "      <th>smoker</th>\n",
       "    </tr>\n",
       "  </thead>\n",
       "  <tbody>\n",
       "    <tr>\n",
       "      <th>3</th>\n",
       "      <td>5.8</td>\n",
       "      <td>75</td>\n",
       "      <td>NaN</td>\n",
       "      <td>Yes</td>\n",
       "    </tr>\n",
       "  </tbody>\n",
       "</table>\n",
       "</div>"
      ],
      "text/plain": [
       "  height  weight  bmi smoker\n",
       "3    5.8      75  NaN    Yes"
      ]
     },
     "execution_count": 14,
     "metadata": {},
     "output_type": "execute_result"
    }
   ],
   "source": [
    "# Display_the_last_row_of_the_DataFrame\n",
    "\n",
    "health_data_frame.tail(1)"
   ]
  },
  {
   "cell_type": "code",
   "execution_count": 15,
   "id": "ceb23efd-25da-4020-956b-01147b839222",
   "metadata": {},
   "outputs": [
    {
     "data": {
      "text/html": [
       "<div>\n",
       "<style scoped>\n",
       "    .dataframe tbody tr th:only-of-type {\n",
       "        vertical-align: middle;\n",
       "    }\n",
       "\n",
       "    .dataframe tbody tr th {\n",
       "        vertical-align: top;\n",
       "    }\n",
       "\n",
       "    .dataframe thead th {\n",
       "        text-align: right;\n",
       "    }\n",
       "</style>\n",
       "<table border=\"1\" class=\"dataframe\">\n",
       "  <thead>\n",
       "    <tr style=\"text-align: right;\">\n",
       "      <th></th>\n",
       "      <th>weight</th>\n",
       "      <th>bmi</th>\n",
       "    </tr>\n",
       "  </thead>\n",
       "  <tbody>\n",
       "    <tr>\n",
       "      <th>count</th>\n",
       "      <td>4.00000</td>\n",
       "      <td>3.000000</td>\n",
       "    </tr>\n",
       "    <tr>\n",
       "      <th>mean</th>\n",
       "      <td>66.50000</td>\n",
       "      <td>17.433333</td>\n",
       "    </tr>\n",
       "    <tr>\n",
       "      <th>std</th>\n",
       "      <td>8.42615</td>\n",
       "      <td>4.129568</td>\n",
       "    </tr>\n",
       "    <tr>\n",
       "      <th>min</th>\n",
       "      <td>57.00000</td>\n",
       "      <td>12.700000</td>\n",
       "    </tr>\n",
       "    <tr>\n",
       "      <th>25%</th>\n",
       "      <td>60.75000</td>\n",
       "      <td>16.000000</td>\n",
       "    </tr>\n",
       "    <tr>\n",
       "      <th>50%</th>\n",
       "      <td>67.00000</td>\n",
       "      <td>19.300000</td>\n",
       "    </tr>\n",
       "    <tr>\n",
       "      <th>75%</th>\n",
       "      <td>72.75000</td>\n",
       "      <td>19.800000</td>\n",
       "    </tr>\n",
       "    <tr>\n",
       "      <th>max</th>\n",
       "      <td>75.00000</td>\n",
       "      <td>20.300000</td>\n",
       "    </tr>\n",
       "  </tbody>\n",
       "</table>\n",
       "</div>"
      ],
      "text/plain": [
       "         weight        bmi\n",
       "count   4.00000   3.000000\n",
       "mean   66.50000  17.433333\n",
       "std     8.42615   4.129568\n",
       "min    57.00000  12.700000\n",
       "25%    60.75000  16.000000\n",
       "50%    67.00000  19.300000\n",
       "75%    72.75000  19.800000\n",
       "max    75.00000  20.300000"
      ]
     },
     "execution_count": 15,
     "metadata": {},
     "output_type": "execute_result"
    }
   ],
   "source": [
    "# Display_a_summary_of_the_DataFrame\n",
    "\n",
    "health_data_frame.describe()"
   ]
  },
  {
   "cell_type": "code",
   "execution_count": 16,
   "id": "d0ae1558-b6f9-497a-956a-aba8feac0f64",
   "metadata": {},
   "outputs": [
    {
     "name": "stdout",
     "output_type": "stream",
     "text": [
      "[[5.5 57 19.3 'Yes']\n",
      " [5.5 62 12.7 'No']\n",
      " ['A' 72 20.3 None]\n",
      " [5.8 75 nan 'Yes']]\n",
      "<class 'numpy.ndarray'>\n"
     ]
    }
   ],
   "source": [
    "# Show_DataFrame_as_NumPy_array_and_its-type\n",
    "\n",
    "health_data_np_array = health_data_frame.values\n",
    "\n",
    "print(health_data_np_array)\n",
    "print(type(health_data_np_array))\n"
   ]
  },
  {
   "cell_type": "code",
   "execution_count": 17,
   "id": "bd0b541c-2be2-4997-94c0-116d5b156202",
   "metadata": {},
   "outputs": [
    {
     "name": "stdout",
     "output_type": "stream",
     "text": [
      "Index(['height', 'weight', 'bmi', 'smoker'], dtype='object')\n",
      "<class 'pandas.core.indexes.base.Index'>\n"
     ]
    }
   ],
   "source": [
    "# Display_DataFrame_column_names_and_their_type\n",
    "\n",
    "print(health_data_frame.columns)\n",
    "print(type(health_data_frame.columns))"
   ]
  },
  {
   "cell_type": "code",
   "execution_count": 18,
   "id": "4992734d-906e-45ae-8a91-cd96a89aa7e1",
   "metadata": {},
   "outputs": [
    {
     "data": {
      "text/html": [
       "<div>\n",
       "<style scoped>\n",
       "    .dataframe tbody tr th:only-of-type {\n",
       "        vertical-align: middle;\n",
       "    }\n",
       "\n",
       "    .dataframe tbody tr th {\n",
       "        vertical-align: top;\n",
       "    }\n",
       "\n",
       "    .dataframe thead th {\n",
       "        text-align: right;\n",
       "    }\n",
       "</style>\n",
       "<table border=\"1\" class=\"dataframe\">\n",
       "  <thead>\n",
       "    <tr style=\"text-align: right;\">\n",
       "      <th></th>\n",
       "      <th>Height (Feet)</th>\n",
       "      <th>Weight (Kg)</th>\n",
       "      <th>BMI</th>\n",
       "      <th>Is Smoker</th>\n",
       "    </tr>\n",
       "  </thead>\n",
       "  <tbody>\n",
       "    <tr>\n",
       "      <th>0</th>\n",
       "      <td>5.5</td>\n",
       "      <td>57</td>\n",
       "      <td>19.3</td>\n",
       "      <td>Yes</td>\n",
       "    </tr>\n",
       "    <tr>\n",
       "      <th>1</th>\n",
       "      <td>5.5</td>\n",
       "      <td>62</td>\n",
       "      <td>12.7</td>\n",
       "      <td>No</td>\n",
       "    </tr>\n",
       "    <tr>\n",
       "      <th>2</th>\n",
       "      <td>A</td>\n",
       "      <td>72</td>\n",
       "      <td>20.3</td>\n",
       "      <td>None</td>\n",
       "    </tr>\n",
       "    <tr>\n",
       "      <th>3</th>\n",
       "      <td>5.8</td>\n",
       "      <td>75</td>\n",
       "      <td>NaN</td>\n",
       "      <td>Yes</td>\n",
       "    </tr>\n",
       "  </tbody>\n",
       "</table>\n",
       "</div>"
      ],
      "text/plain": [
       "  Height (Feet)  Weight (Kg)   BMI Is Smoker\n",
       "0           5.5           57  19.3       Yes\n",
       "1           5.5           62  12.7        No\n",
       "2             A           72  20.3      None\n",
       "3           5.8           75   NaN       Yes"
      ]
     },
     "execution_count": 18,
     "metadata": {},
     "output_type": "execute_result"
    }
   ],
   "source": [
    "# Rename_DataFrame_columns_and_display_the_first_few_rows\n",
    "\n",
    "health_data_frame.columns = [\n",
    "    \"Height (Feet)\", \"Weight (Kg)\", \"BMI\", \"Is Smoker\"\n",
    "]\n",
    "\n",
    "health_data_frame.head()"
   ]
  },
  {
   "cell_type": "markdown",
   "id": "48718f1f-f30f-48bd-8e88-cf5c31269f79",
   "metadata": {},
   "source": [
    "2_to_csv: saves the data frame into a comma separated text file.\n",
    "to_excel: saves the data frame into a excel file.\n",
    "to_sql: saves the data frame as a SQL table."
   ]
  },
  {
   "cell_type": "code",
   "execution_count": 22,
   "id": "270b09b7-2347-4cf1-868c-7009b4701a92",
   "metadata": {},
   "outputs": [],
   "source": [
    "# Save_the_DataFrame_to_a_CSV_file\n",
    "\n",
    "health_data_frame.to_csv(\n",
    "    \n",
    "    \"C:\\\\Users\\\\mrmdh\\OneDrive\\\\Desktop\\\\my_csv_file\\\\my_saved_df.csv\",\n",
    "    index=False,\n",
    ")\n"
   ]
  },
  {
   "cell_type": "markdown",
   "id": "25438f4d-de12-4283-af55-7057f07dfe16",
   "metadata": {},
   "source": [
    "3_Read_Data_frame_from_a_file \n",
    "\n",
    "There are number of file formats:\n",
    "1. Text file (.txt)\n",
    "2. Comma Separated Value file (.csv)\n",
    "3. JSON File (.json)\n",
    "4. Excel File (.xls)\n"
   ]
  },
  {
   "cell_type": "code",
   "execution_count": 30,
   "id": "6ebe26ad-bed0-41d8-912a-8e780984b597",
   "metadata": {},
   "outputs": [
    {
     "name": "stdout",
     "output_type": "stream",
     "text": [
      "<class 'pandas.core.frame.DataFrame'>\n"
     ]
    },
    {
     "data": {
      "text/html": [
       "<div>\n",
       "<style scoped>\n",
       "    .dataframe tbody tr th:only-of-type {\n",
       "        vertical-align: middle;\n",
       "    }\n",
       "\n",
       "    .dataframe tbody tr th {\n",
       "        vertical-align: top;\n",
       "    }\n",
       "\n",
       "    .dataframe thead th {\n",
       "        text-align: right;\n",
       "    }\n",
       "</style>\n",
       "<table border=\"1\" class=\"dataframe\">\n",
       "  <thead>\n",
       "    <tr style=\"text-align: right;\">\n",
       "      <th></th>\n",
       "      <th>Unnamed: 0</th>\n",
       "      <th>region</th>\n",
       "      <th>state</th>\n",
       "      <th>individuals</th>\n",
       "      <th>family_members</th>\n",
       "      <th>state_pop</th>\n",
       "    </tr>\n",
       "  </thead>\n",
       "  <tbody>\n",
       "    <tr>\n",
       "      <th>0</th>\n",
       "      <td>0</td>\n",
       "      <td>East South Central</td>\n",
       "      <td>Alabama</td>\n",
       "      <td>2570.0</td>\n",
       "      <td>864.0</td>\n",
       "      <td>4887681</td>\n",
       "    </tr>\n",
       "    <tr>\n",
       "      <th>1</th>\n",
       "      <td>1</td>\n",
       "      <td>Pacific</td>\n",
       "      <td>Alaska</td>\n",
       "      <td>1434.0</td>\n",
       "      <td>582.0</td>\n",
       "      <td>735139</td>\n",
       "    </tr>\n",
       "    <tr>\n",
       "      <th>2</th>\n",
       "      <td>2</td>\n",
       "      <td>Mountain</td>\n",
       "      <td>Arizona</td>\n",
       "      <td>7259.0</td>\n",
       "      <td>2606.0</td>\n",
       "      <td>7158024</td>\n",
       "    </tr>\n",
       "    <tr>\n",
       "      <th>3</th>\n",
       "      <td>3</td>\n",
       "      <td>West South Central</td>\n",
       "      <td>Arkansas</td>\n",
       "      <td>2280.0</td>\n",
       "      <td>432.0</td>\n",
       "      <td>3009733</td>\n",
       "    </tr>\n",
       "    <tr>\n",
       "      <th>4</th>\n",
       "      <td>4</td>\n",
       "      <td>Pacific</td>\n",
       "      <td>California</td>\n",
       "      <td>109008.0</td>\n",
       "      <td>20964.0</td>\n",
       "      <td>39461588</td>\n",
       "    </tr>\n",
       "  </tbody>\n",
       "</table>\n",
       "</div>"
      ],
      "text/plain": [
       "   Unnamed: 0              region       state  individuals  family_members  \\\n",
       "0           0  East South Central     Alabama       2570.0           864.0   \n",
       "1           1             Pacific      Alaska       1434.0           582.0   \n",
       "2           2            Mountain     Arizona       7259.0          2606.0   \n",
       "3           3  West South Central    Arkansas       2280.0           432.0   \n",
       "4           4             Pacific  California     109008.0         20964.0   \n",
       "\n",
       "   state_pop  \n",
       "0    4887681  \n",
       "1     735139  \n",
       "2    7158024  \n",
       "3    3009733  \n",
       "4   39461588  "
      ]
     },
     "execution_count": 30,
     "metadata": {},
     "output_type": "execute_result"
    }
   ],
   "source": [
    "df = pd.read_csv(\n",
    "    \n",
    "    \"C:\\\\Users\\\\mrmdh\\\\OneDrive\\\\Desktop\\\\data_science\\\\pandas_2\\\\class-19-homelessness.csv\"\n",
    "\n",
    ")\n",
    "\n",
    "print(type(df))\n",
    "df.head()"
   ]
  },
  {
   "cell_type": "code",
   "execution_count": 31,
   "id": "d014f614-d277-4afe-bf5a-e692d9cbec13",
   "metadata": {},
   "outputs": [
    {
     "data": {
      "text/plain": [
       "Index(['Unnamed: 0', 'region', 'state', 'individuals', 'family_members',\n",
       "       'state_pop'],\n",
       "      dtype='object')"
      ]
     },
     "execution_count": 31,
     "metadata": {},
     "output_type": "execute_result"
    }
   ],
   "source": [
    "df.columns"
   ]
  },
  {
   "cell_type": "code",
   "execution_count": 35,
   "id": "9231f012-9a4e-40ae-8a1a-714720530f59",
   "metadata": {},
   "outputs": [
    {
     "data": {
      "text/html": [
       "<div>\n",
       "<style scoped>\n",
       "    .dataframe tbody tr th:only-of-type {\n",
       "        vertical-align: middle;\n",
       "    }\n",
       "\n",
       "    .dataframe tbody tr th {\n",
       "        vertical-align: top;\n",
       "    }\n",
       "\n",
       "    .dataframe thead th {\n",
       "        text-align: right;\n",
       "    }\n",
       "</style>\n",
       "<table border=\"1\" class=\"dataframe\">\n",
       "  <thead>\n",
       "    <tr style=\"text-align: right;\">\n",
       "      <th></th>\n",
       "      <th>Unnamed: 0</th>\n",
       "      <th>region</th>\n",
       "      <th>state</th>\n",
       "      <th>individuals</th>\n",
       "      <th>family_members</th>\n",
       "      <th>state_pop</th>\n",
       "    </tr>\n",
       "  </thead>\n",
       "  <tbody>\n",
       "    <tr>\n",
       "      <th>49</th>\n",
       "      <td>49</td>\n",
       "      <td>East North Central</td>\n",
       "      <td>Wisconsin</td>\n",
       "      <td>2740.0</td>\n",
       "      <td>2167.0</td>\n",
       "      <td>5807406</td>\n",
       "    </tr>\n",
       "    <tr>\n",
       "      <th>35</th>\n",
       "      <td>35</td>\n",
       "      <td>East North Central</td>\n",
       "      <td>Ohio</td>\n",
       "      <td>6929.0</td>\n",
       "      <td>3320.0</td>\n",
       "      <td>11676341</td>\n",
       "    </tr>\n",
       "    <tr>\n",
       "      <th>22</th>\n",
       "      <td>22</td>\n",
       "      <td>East North Central</td>\n",
       "      <td>Michigan</td>\n",
       "      <td>5209.0</td>\n",
       "      <td>3142.0</td>\n",
       "      <td>9984072</td>\n",
       "    </tr>\n",
       "    <tr>\n",
       "      <th>14</th>\n",
       "      <td>14</td>\n",
       "      <td>East North Central</td>\n",
       "      <td>Indiana</td>\n",
       "      <td>3776.0</td>\n",
       "      <td>1482.0</td>\n",
       "      <td>6695497</td>\n",
       "    </tr>\n",
       "    <tr>\n",
       "      <th>13</th>\n",
       "      <td>13</td>\n",
       "      <td>East North Central</td>\n",
       "      <td>Illinois</td>\n",
       "      <td>6752.0</td>\n",
       "      <td>3891.0</td>\n",
       "      <td>12723071</td>\n",
       "    </tr>\n",
       "  </tbody>\n",
       "</table>\n",
       "</div>"
      ],
      "text/plain": [
       "    Unnamed: 0              region      state  individuals  family_members  \\\n",
       "49          49  East North Central  Wisconsin       2740.0          2167.0   \n",
       "35          35  East North Central       Ohio       6929.0          3320.0   \n",
       "22          22  East North Central   Michigan       5209.0          3142.0   \n",
       "14          14  East North Central    Indiana       3776.0          1482.0   \n",
       "13          13  East North Central   Illinois       6752.0          3891.0   \n",
       "\n",
       "    state_pop  \n",
       "49    5807406  \n",
       "35   11676341  \n",
       "22    9984072  \n",
       "14    6695497  \n",
       "13   12723071  "
      ]
     },
     "execution_count": 35,
     "metadata": {},
     "output_type": "execute_result"
    }
   ],
   "source": [
    "# Sort_the_DataFrame_by_multiple_columns_and_display_the_top_50_rows\n",
    "\n",
    "sorted_df_by_multi_cols = df.sort_values(\n",
    "    by=['region', 'state'],\n",
    "    ascending=[True, False]\n",
    ") \n",
    "\n",
    "sorted_df_by_multi_cols.head(5)"
   ]
  },
  {
   "cell_type": "code",
   "execution_count": 40,
   "id": "a8c8e046-29ad-4db3-b916-0edea831b0e2",
   "metadata": {},
   "outputs": [
    {
     "name": "stdout",
     "output_type": "stream",
     "text": [
      "<class 'pandas.core.series.Series'>\n",
      "0      2570.0\n",
      "1      1434.0\n",
      "2      7259.0\n",
      "3      2280.0\n",
      "4    109008.0\n",
      "Name: individuals, dtype: float64\n"
     ]
    }
   ],
   "source": [
    "individuals = df['individuals']\n",
    "print(type(individuals))\n",
    "# print(individuals)\n",
    "\n",
    "print(individuals.head(5))"
   ]
  },
  {
   "cell_type": "code",
   "execution_count": 41,
   "id": "0ada7ee0-dc72-4a06-b4b4-5c16eb9437c9",
   "metadata": {},
   "outputs": [
    {
     "data": {
      "text/html": [
       "<div>\n",
       "<style scoped>\n",
       "    .dataframe tbody tr th:only-of-type {\n",
       "        vertical-align: middle;\n",
       "    }\n",
       "\n",
       "    .dataframe tbody tr th {\n",
       "        vertical-align: top;\n",
       "    }\n",
       "\n",
       "    .dataframe thead th {\n",
       "        text-align: right;\n",
       "    }\n",
       "</style>\n",
       "<table border=\"1\" class=\"dataframe\">\n",
       "  <thead>\n",
       "    <tr style=\"text-align: right;\">\n",
       "      <th></th>\n",
       "      <th>region</th>\n",
       "      <th>family_members</th>\n",
       "    </tr>\n",
       "  </thead>\n",
       "  <tbody>\n",
       "    <tr>\n",
       "      <th>0</th>\n",
       "      <td>East South Central</td>\n",
       "      <td>864.0</td>\n",
       "    </tr>\n",
       "    <tr>\n",
       "      <th>1</th>\n",
       "      <td>Pacific</td>\n",
       "      <td>582.0</td>\n",
       "    </tr>\n",
       "    <tr>\n",
       "      <th>2</th>\n",
       "      <td>Mountain</td>\n",
       "      <td>2606.0</td>\n",
       "    </tr>\n",
       "    <tr>\n",
       "      <th>3</th>\n",
       "      <td>West South Central</td>\n",
       "      <td>432.0</td>\n",
       "    </tr>\n",
       "    <tr>\n",
       "      <th>4</th>\n",
       "      <td>Pacific</td>\n",
       "      <td>20964.0</td>\n",
       "    </tr>\n",
       "  </tbody>\n",
       "</table>\n",
       "</div>"
      ],
      "text/plain": [
       "               region  family_members\n",
       "0  East South Central           864.0\n",
       "1             Pacific           582.0\n",
       "2            Mountain          2606.0\n",
       "3  West South Central           432.0\n",
       "4             Pacific         20964.0"
      ]
     },
     "execution_count": 41,
     "metadata": {},
     "output_type": "execute_result"
    }
   ],
   "source": [
    "new_df = df[['region', 'family_members'] ]\n",
    "new_df.head()"
   ]
  },
  {
   "cell_type": "code",
   "execution_count": 42,
   "id": "54babc4e-a8ee-44b6-996a-a27693f7f7b5",
   "metadata": {},
   "outputs": [
    {
     "data": {
      "text/html": [
       "<div>\n",
       "<style scoped>\n",
       "    .dataframe tbody tr th:only-of-type {\n",
       "        vertical-align: middle;\n",
       "    }\n",
       "\n",
       "    .dataframe tbody tr th {\n",
       "        vertical-align: top;\n",
       "    }\n",
       "\n",
       "    .dataframe thead th {\n",
       "        text-align: right;\n",
       "    }\n",
       "</style>\n",
       "<table border=\"1\" class=\"dataframe\">\n",
       "  <thead>\n",
       "    <tr style=\"text-align: right;\">\n",
       "      <th></th>\n",
       "      <th>Unnamed: 0</th>\n",
       "      <th>region</th>\n",
       "      <th>state</th>\n",
       "      <th>individuals</th>\n",
       "      <th>family_members</th>\n",
       "      <th>state_pop</th>\n",
       "    </tr>\n",
       "  </thead>\n",
       "  <tbody>\n",
       "    <tr>\n",
       "      <th>2</th>\n",
       "      <td>2</td>\n",
       "      <td>Mountain</td>\n",
       "      <td>Arizona</td>\n",
       "      <td>7259.0</td>\n",
       "      <td>2606.0</td>\n",
       "      <td>7158024</td>\n",
       "    </tr>\n",
       "    <tr>\n",
       "      <th>5</th>\n",
       "      <td>5</td>\n",
       "      <td>Mountain</td>\n",
       "      <td>Colorado</td>\n",
       "      <td>7607.0</td>\n",
       "      <td>3250.0</td>\n",
       "      <td>5691287</td>\n",
       "    </tr>\n",
       "    <tr>\n",
       "      <th>12</th>\n",
       "      <td>12</td>\n",
       "      <td>Mountain</td>\n",
       "      <td>Idaho</td>\n",
       "      <td>1297.0</td>\n",
       "      <td>715.0</td>\n",
       "      <td>1750536</td>\n",
       "    </tr>\n",
       "    <tr>\n",
       "      <th>26</th>\n",
       "      <td>26</td>\n",
       "      <td>Mountain</td>\n",
       "      <td>Montana</td>\n",
       "      <td>983.0</td>\n",
       "      <td>422.0</td>\n",
       "      <td>1060665</td>\n",
       "    </tr>\n",
       "    <tr>\n",
       "      <th>28</th>\n",
       "      <td>28</td>\n",
       "      <td>Mountain</td>\n",
       "      <td>Nevada</td>\n",
       "      <td>7058.0</td>\n",
       "      <td>486.0</td>\n",
       "      <td>3027341</td>\n",
       "    </tr>\n",
       "  </tbody>\n",
       "</table>\n",
       "</div>"
      ],
      "text/plain": [
       "    Unnamed: 0    region     state  individuals  family_members  state_pop\n",
       "2            2  Mountain   Arizona       7259.0          2606.0    7158024\n",
       "5            5  Mountain  Colorado       7607.0          3250.0    5691287\n",
       "12          12  Mountain     Idaho       1297.0           715.0    1750536\n",
       "26          26  Mountain   Montana        983.0           422.0    1060665\n",
       "28          28  Mountain    Nevada       7058.0           486.0    3027341"
      ]
     },
     "execution_count": 42,
     "metadata": {},
     "output_type": "execute_result"
    }
   ],
   "source": [
    "mask = df['region'] == 'Mountain'\n",
    "df_mountain = df[ mask ]\n",
    "df_mountain.head()"
   ]
  },
  {
   "cell_type": "code",
   "execution_count": 43,
   "id": "b33a1c41-dfe2-4a28-9c32-f1eff8ce4c48",
   "metadata": {},
   "outputs": [
    {
     "data": {
      "text/html": [
       "<div>\n",
       "<style scoped>\n",
       "    .dataframe tbody tr th:only-of-type {\n",
       "        vertical-align: middle;\n",
       "    }\n",
       "\n",
       "    .dataframe tbody tr th {\n",
       "        vertical-align: top;\n",
       "    }\n",
       "\n",
       "    .dataframe thead th {\n",
       "        text-align: right;\n",
       "    }\n",
       "</style>\n",
       "<table border=\"1\" class=\"dataframe\">\n",
       "  <thead>\n",
       "    <tr style=\"text-align: right;\">\n",
       "      <th></th>\n",
       "      <th>Unnamed: 0</th>\n",
       "      <th>region</th>\n",
       "      <th>state</th>\n",
       "      <th>individuals</th>\n",
       "      <th>family_members</th>\n",
       "      <th>state_pop</th>\n",
       "    </tr>\n",
       "  </thead>\n",
       "  <tbody>\n",
       "    <tr>\n",
       "      <th>4</th>\n",
       "      <td>4</td>\n",
       "      <td>Pacific</td>\n",
       "      <td>California</td>\n",
       "      <td>109008.0</td>\n",
       "      <td>20964.0</td>\n",
       "      <td>39461588</td>\n",
       "    </tr>\n",
       "    <tr>\n",
       "      <th>9</th>\n",
       "      <td>9</td>\n",
       "      <td>South Atlantic</td>\n",
       "      <td>Florida</td>\n",
       "      <td>21443.0</td>\n",
       "      <td>9587.0</td>\n",
       "      <td>21244317</td>\n",
       "    </tr>\n",
       "    <tr>\n",
       "      <th>32</th>\n",
       "      <td>32</td>\n",
       "      <td>Mid-Atlantic</td>\n",
       "      <td>New York</td>\n",
       "      <td>39827.0</td>\n",
       "      <td>52070.0</td>\n",
       "      <td>19530351</td>\n",
       "    </tr>\n",
       "    <tr>\n",
       "      <th>37</th>\n",
       "      <td>37</td>\n",
       "      <td>Pacific</td>\n",
       "      <td>Oregon</td>\n",
       "      <td>11139.0</td>\n",
       "      <td>3337.0</td>\n",
       "      <td>4181886</td>\n",
       "    </tr>\n",
       "    <tr>\n",
       "      <th>43</th>\n",
       "      <td>43</td>\n",
       "      <td>West South Central</td>\n",
       "      <td>Texas</td>\n",
       "      <td>19199.0</td>\n",
       "      <td>6111.0</td>\n",
       "      <td>28628666</td>\n",
       "    </tr>\n",
       "  </tbody>\n",
       "</table>\n",
       "</div>"
      ],
      "text/plain": [
       "    Unnamed: 0              region       state  individuals  family_members  \\\n",
       "4            4             Pacific  California     109008.0         20964.0   \n",
       "9            9      South Atlantic     Florida      21443.0          9587.0   \n",
       "32          32        Mid-Atlantic    New York      39827.0         52070.0   \n",
       "37          37             Pacific      Oregon      11139.0          3337.0   \n",
       "43          43  West South Central       Texas      19199.0          6111.0   \n",
       "\n",
       "    state_pop  \n",
       "4    39461588  \n",
       "9    21244317  \n",
       "32   19530351  \n",
       "37    4181886  \n",
       "43   28628666  "
      ]
     },
     "execution_count": 43,
     "metadata": {},
     "output_type": "execute_result"
    }
   ],
   "source": [
    "df_gt_10k = df[ df['individuals'] > 10000 ]\n",
    "df_gt_10k.head()"
   ]
  },
  {
   "cell_type": "code",
   "execution_count": 44,
   "id": "65652498-e813-40a3-98d5-00925e5c41c4",
   "metadata": {},
   "outputs": [
    {
     "data": {
      "text/html": [
       "<div>\n",
       "<style scoped>\n",
       "    .dataframe tbody tr th:only-of-type {\n",
       "        vertical-align: middle;\n",
       "    }\n",
       "\n",
       "    .dataframe tbody tr th {\n",
       "        vertical-align: top;\n",
       "    }\n",
       "\n",
       "    .dataframe thead th {\n",
       "        text-align: right;\n",
       "    }\n",
       "</style>\n",
       "<table border=\"1\" class=\"dataframe\">\n",
       "  <thead>\n",
       "    <tr style=\"text-align: right;\">\n",
       "      <th></th>\n",
       "      <th>Unnamed: 0</th>\n",
       "      <th>region</th>\n",
       "      <th>state</th>\n",
       "      <th>individuals</th>\n",
       "      <th>family_members</th>\n",
       "      <th>state_pop</th>\n",
       "    </tr>\n",
       "  </thead>\n",
       "  <tbody>\n",
       "    <tr>\n",
       "      <th>1</th>\n",
       "      <td>1</td>\n",
       "      <td>Pacific</td>\n",
       "      <td>Alaska</td>\n",
       "      <td>1434.0</td>\n",
       "      <td>582.0</td>\n",
       "      <td>735139</td>\n",
       "    </tr>\n",
       "    <tr>\n",
       "      <th>11</th>\n",
       "      <td>11</td>\n",
       "      <td>Pacific</td>\n",
       "      <td>Hawaii</td>\n",
       "      <td>4131.0</td>\n",
       "      <td>2399.0</td>\n",
       "      <td>1420593</td>\n",
       "    </tr>\n",
       "    <tr>\n",
       "      <th>37</th>\n",
       "      <td>37</td>\n",
       "      <td>Pacific</td>\n",
       "      <td>Oregon</td>\n",
       "      <td>11139.0</td>\n",
       "      <td>3337.0</td>\n",
       "      <td>4181886</td>\n",
       "    </tr>\n",
       "    <tr>\n",
       "      <th>47</th>\n",
       "      <td>47</td>\n",
       "      <td>Pacific</td>\n",
       "      <td>Washington</td>\n",
       "      <td>16424.0</td>\n",
       "      <td>5880.0</td>\n",
       "      <td>7523869</td>\n",
       "    </tr>\n",
       "  </tbody>\n",
       "</table>\n",
       "</div>"
      ],
      "text/plain": [
       "    Unnamed: 0   region       state  individuals  family_members  state_pop\n",
       "1            1  Pacific      Alaska       1434.0           582.0     735139\n",
       "11          11  Pacific      Hawaii       4131.0          2399.0    1420593\n",
       "37          37  Pacific      Oregon      11139.0          3337.0    4181886\n",
       "47          47  Pacific  Washington      16424.0          5880.0    7523869"
      ]
     },
     "execution_count": 44,
     "metadata": {},
     "output_type": "execute_result"
    }
   ],
   "source": [
    "is_family_lt_1k_mask = df['family_members'] < 10000\n",
    "is_region_pacific_mask = df['region'] == 'Pacific'\n",
    "\n",
    "new_df = df[ is_family_lt_1k_mask & is_region_pacific_mask ]\n",
    "new_df.head()"
   ]
  },
  {
   "cell_type": "code",
   "execution_count": 45,
   "id": "2cf30d42-bbeb-4f3c-8f81-fb5f28f0179e",
   "metadata": {},
   "outputs": [
    {
     "data": {
      "text/html": [
       "<div>\n",
       "<style scoped>\n",
       "    .dataframe tbody tr th:only-of-type {\n",
       "        vertical-align: middle;\n",
       "    }\n",
       "\n",
       "    .dataframe tbody tr th {\n",
       "        vertical-align: top;\n",
       "    }\n",
       "\n",
       "    .dataframe thead th {\n",
       "        text-align: right;\n",
       "    }\n",
       "</style>\n",
       "<table border=\"1\" class=\"dataframe\">\n",
       "  <thead>\n",
       "    <tr style=\"text-align: right;\">\n",
       "      <th></th>\n",
       "      <th>Unnamed: 0</th>\n",
       "      <th>region</th>\n",
       "      <th>state</th>\n",
       "      <th>individuals</th>\n",
       "      <th>family_members</th>\n",
       "      <th>state_pop</th>\n",
       "      <th>total_population</th>\n",
       "    </tr>\n",
       "  </thead>\n",
       "  <tbody>\n",
       "    <tr>\n",
       "      <th>0</th>\n",
       "      <td>0</td>\n",
       "      <td>East South Central</td>\n",
       "      <td>Alabama</td>\n",
       "      <td>2570.0</td>\n",
       "      <td>864.0</td>\n",
       "      <td>4887681</td>\n",
       "      <td>4890251.0</td>\n",
       "    </tr>\n",
       "    <tr>\n",
       "      <th>1</th>\n",
       "      <td>1</td>\n",
       "      <td>Pacific</td>\n",
       "      <td>Alaska</td>\n",
       "      <td>1434.0</td>\n",
       "      <td>582.0</td>\n",
       "      <td>735139</td>\n",
       "      <td>736573.0</td>\n",
       "    </tr>\n",
       "    <tr>\n",
       "      <th>2</th>\n",
       "      <td>2</td>\n",
       "      <td>Mountain</td>\n",
       "      <td>Arizona</td>\n",
       "      <td>7259.0</td>\n",
       "      <td>2606.0</td>\n",
       "      <td>7158024</td>\n",
       "      <td>7165283.0</td>\n",
       "    </tr>\n",
       "    <tr>\n",
       "      <th>3</th>\n",
       "      <td>3</td>\n",
       "      <td>West South Central</td>\n",
       "      <td>Arkansas</td>\n",
       "      <td>2280.0</td>\n",
       "      <td>432.0</td>\n",
       "      <td>3009733</td>\n",
       "      <td>3012013.0</td>\n",
       "    </tr>\n",
       "    <tr>\n",
       "      <th>4</th>\n",
       "      <td>4</td>\n",
       "      <td>Pacific</td>\n",
       "      <td>California</td>\n",
       "      <td>109008.0</td>\n",
       "      <td>20964.0</td>\n",
       "      <td>39461588</td>\n",
       "      <td>39570596.0</td>\n",
       "    </tr>\n",
       "  </tbody>\n",
       "</table>\n",
       "</div>"
      ],
      "text/plain": [
       "   Unnamed: 0              region       state  individuals  family_members  \\\n",
       "0           0  East South Central     Alabama       2570.0           864.0   \n",
       "1           1             Pacific      Alaska       1434.0           582.0   \n",
       "2           2            Mountain     Arizona       7259.0          2606.0   \n",
       "3           3  West South Central    Arkansas       2280.0           432.0   \n",
       "4           4             Pacific  California     109008.0         20964.0   \n",
       "\n",
       "   state_pop  total_population  \n",
       "0    4887681         4890251.0  \n",
       "1     735139          736573.0  \n",
       "2    7158024         7165283.0  \n",
       "3    3009733         3012013.0  \n",
       "4   39461588        39570596.0  "
      ]
     },
     "execution_count": 45,
     "metadata": {},
     "output_type": "execute_result"
    }
   ],
   "source": [
    "df['total_population'] = df['individuals'] + df['state_pop']\n",
    "df.head()"
   ]
  },
  {
   "cell_type": "markdown",
   "id": "740e671c-afa4-4c73-9c90-9b0b6a5a998c",
   "metadata": {},
   "source": [
    "4_Query \n",
    "- Query must be written in the double quote format\n",
    "- Inside the double quote we can use single for string\n"
   ]
  },
  {
   "cell_type": "code",
   "execution_count": 46,
   "id": "bbdb5b00-043e-4f83-b878-1cd6fcf53a30",
   "metadata": {},
   "outputs": [
    {
     "data": {
      "text/html": [
       "<div>\n",
       "<style scoped>\n",
       "    .dataframe tbody tr th:only-of-type {\n",
       "        vertical-align: middle;\n",
       "    }\n",
       "\n",
       "    .dataframe tbody tr th {\n",
       "        vertical-align: top;\n",
       "    }\n",
       "\n",
       "    .dataframe thead th {\n",
       "        text-align: right;\n",
       "    }\n",
       "</style>\n",
       "<table border=\"1\" class=\"dataframe\">\n",
       "  <thead>\n",
       "    <tr style=\"text-align: right;\">\n",
       "      <th></th>\n",
       "      <th>Unnamed: 0</th>\n",
       "      <th>region</th>\n",
       "      <th>state</th>\n",
       "      <th>individuals</th>\n",
       "      <th>family_members</th>\n",
       "      <th>state_pop</th>\n",
       "      <th>total_population</th>\n",
       "    </tr>\n",
       "  </thead>\n",
       "  <tbody>\n",
       "    <tr>\n",
       "      <th>1</th>\n",
       "      <td>1</td>\n",
       "      <td>Pacific</td>\n",
       "      <td>Alaska</td>\n",
       "      <td>1434.0</td>\n",
       "      <td>582.0</td>\n",
       "      <td>735139</td>\n",
       "      <td>736573.0</td>\n",
       "    </tr>\n",
       "    <tr>\n",
       "      <th>11</th>\n",
       "      <td>11</td>\n",
       "      <td>Pacific</td>\n",
       "      <td>Hawaii</td>\n",
       "      <td>4131.0</td>\n",
       "      <td>2399.0</td>\n",
       "      <td>1420593</td>\n",
       "      <td>1424724.0</td>\n",
       "    </tr>\n",
       "    <tr>\n",
       "      <th>37</th>\n",
       "      <td>37</td>\n",
       "      <td>Pacific</td>\n",
       "      <td>Oregon</td>\n",
       "      <td>11139.0</td>\n",
       "      <td>3337.0</td>\n",
       "      <td>4181886</td>\n",
       "      <td>4193025.0</td>\n",
       "    </tr>\n",
       "    <tr>\n",
       "      <th>47</th>\n",
       "      <td>47</td>\n",
       "      <td>Pacific</td>\n",
       "      <td>Washington</td>\n",
       "      <td>16424.0</td>\n",
       "      <td>5880.0</td>\n",
       "      <td>7523869</td>\n",
       "      <td>7540293.0</td>\n",
       "    </tr>\n",
       "  </tbody>\n",
       "</table>\n",
       "</div>"
      ],
      "text/plain": [
       "    Unnamed: 0   region       state  individuals  family_members  state_pop  \\\n",
       "1            1  Pacific      Alaska       1434.0           582.0     735139   \n",
       "11          11  Pacific      Hawaii       4131.0          2399.0    1420593   \n",
       "37          37  Pacific      Oregon      11139.0          3337.0    4181886   \n",
       "47          47  Pacific  Washington      16424.0          5880.0    7523869   \n",
       "\n",
       "    total_population  \n",
       "1           736573.0  \n",
       "11         1424724.0  \n",
       "37         4193025.0  \n",
       "47         7540293.0  "
      ]
     },
     "execution_count": 46,
     "metadata": {},
     "output_type": "execute_result"
    }
   ],
   "source": [
    "new_df = df.query(\n",
    "    \"region == 'Pacific' and family_members < 10000\"\n",
    ")\n",
    "\n",
    "new_df.head()"
   ]
  },
  {
   "cell_type": "markdown",
   "id": "746fb9ef-869a-4fa0-b92e-d40c6c0e5e49",
   "metadata": {},
   "source": [
    "- Data in our daily life\n",
    "1. Text: I eat rice.\n",
    "2. Tabular: Contains any table\n",
    "3. Image: Images of cats, dogs, etc.\n",
    "4. Video: Videos of cats, dogs, etc.\n",
    "5. Audio: Speech\n",
    "\n",
    "- Fundamental idea of any data processing for analysis\n",
    "1. Step 1. Clean up the data (No missing values, No duplicate values)\n",
    "2. Step 2. Convert all the data into same types\n",
    "3. Step 3. Remove bias to ensure fair presence of each category of examples\n",
    "4. Step 4. Balance the impacts of features (No feature should dominate other features)"
   ]
  },
  {
   "cell_type": "markdown",
   "id": "3a32243b-d242-41c2-84a4-f9aa4f084de5",
   "metadata": {},
   "source": [
    "Create_file_paths_using_os.path_and_display_directory_locations"
   ]
  },
  {
   "cell_type": "code",
   "execution_count": 4,
   "id": "b126b272-0299-4d9e-a8aa-51f410e8bc7e",
   "metadata": {},
   "outputs": [],
   "source": [
    "import os\n",
    "\n",
    "root_dir =  \"C:\\\\Users\\\\mrmdh\\\\OneDrive\\\\Desktop\\\\data_science\\\\pandas_2\"\n",
    "data_dir = os.path.join(root_dir, 'data')\n",
    "dataset_path = os.path.join(data_dir, 'class-19-sales_subset.csv')\n",
    "\n",
    "# print(\"root_dir = \", root_dir)\n",
    "# print(\"data_dir = \", data_dir)\n",
    "# print(\"dataset_path = \", dataset_path)\n"
   ]
  },
  {
   "cell_type": "code",
   "execution_count": 5,
   "id": "a3f59bd6-9f4b-4810-9cb4-290132a3f975",
   "metadata": {},
   "outputs": [
    {
     "data": {
      "text/html": [
       "<div>\n",
       "<style scoped>\n",
       "    .dataframe tbody tr th:only-of-type {\n",
       "        vertical-align: middle;\n",
       "    }\n",
       "\n",
       "    .dataframe tbody tr th {\n",
       "        vertical-align: top;\n",
       "    }\n",
       "\n",
       "    .dataframe thead th {\n",
       "        text-align: right;\n",
       "    }\n",
       "</style>\n",
       "<table border=\"1\" class=\"dataframe\">\n",
       "  <thead>\n",
       "    <tr style=\"text-align: right;\">\n",
       "      <th></th>\n",
       "      <th>Unnamed: 0</th>\n",
       "      <th>store</th>\n",
       "      <th>type</th>\n",
       "      <th>department</th>\n",
       "      <th>date</th>\n",
       "      <th>weekly_sales</th>\n",
       "      <th>is_holiday</th>\n",
       "      <th>temperature_c</th>\n",
       "      <th>fuel_price_usd_per_l</th>\n",
       "      <th>unemployment</th>\n",
       "    </tr>\n",
       "  </thead>\n",
       "  <tbody>\n",
       "    <tr>\n",
       "      <th>0</th>\n",
       "      <td>0</td>\n",
       "      <td>1</td>\n",
       "      <td>A</td>\n",
       "      <td>1</td>\n",
       "      <td>2010-02-05</td>\n",
       "      <td>24924.50</td>\n",
       "      <td>False</td>\n",
       "      <td>5.727778</td>\n",
       "      <td>0.679451</td>\n",
       "      <td>8.106</td>\n",
       "    </tr>\n",
       "    <tr>\n",
       "      <th>1</th>\n",
       "      <td>1</td>\n",
       "      <td>1</td>\n",
       "      <td>A</td>\n",
       "      <td>1</td>\n",
       "      <td>2010-03-05</td>\n",
       "      <td>21827.90</td>\n",
       "      <td>False</td>\n",
       "      <td>8.055556</td>\n",
       "      <td>0.693452</td>\n",
       "      <td>8.106</td>\n",
       "    </tr>\n",
       "    <tr>\n",
       "      <th>2</th>\n",
       "      <td>2</td>\n",
       "      <td>1</td>\n",
       "      <td>A</td>\n",
       "      <td>1</td>\n",
       "      <td>2010-04-02</td>\n",
       "      <td>57258.43</td>\n",
       "      <td>False</td>\n",
       "      <td>16.816667</td>\n",
       "      <td>0.718284</td>\n",
       "      <td>7.808</td>\n",
       "    </tr>\n",
       "    <tr>\n",
       "      <th>3</th>\n",
       "      <td>3</td>\n",
       "      <td>1</td>\n",
       "      <td>A</td>\n",
       "      <td>1</td>\n",
       "      <td>2010-05-07</td>\n",
       "      <td>17413.94</td>\n",
       "      <td>False</td>\n",
       "      <td>22.527778</td>\n",
       "      <td>0.748928</td>\n",
       "      <td>7.808</td>\n",
       "    </tr>\n",
       "    <tr>\n",
       "      <th>4</th>\n",
       "      <td>4</td>\n",
       "      <td>1</td>\n",
       "      <td>A</td>\n",
       "      <td>1</td>\n",
       "      <td>2010-06-04</td>\n",
       "      <td>17558.09</td>\n",
       "      <td>False</td>\n",
       "      <td>27.050000</td>\n",
       "      <td>0.714586</td>\n",
       "      <td>7.808</td>\n",
       "    </tr>\n",
       "  </tbody>\n",
       "</table>\n",
       "</div>"
      ],
      "text/plain": [
       "   Unnamed: 0  store type  department        date  weekly_sales  is_holiday  \\\n",
       "0           0      1    A           1  2010-02-05      24924.50       False   \n",
       "1           1      1    A           1  2010-03-05      21827.90       False   \n",
       "2           2      1    A           1  2010-04-02      57258.43       False   \n",
       "3           3      1    A           1  2010-05-07      17413.94       False   \n",
       "4           4      1    A           1  2010-06-04      17558.09       False   \n",
       "\n",
       "   temperature_c  fuel_price_usd_per_l  unemployment  \n",
       "0       5.727778              0.679451         8.106  \n",
       "1       8.055556              0.693452         8.106  \n",
       "2      16.816667              0.718284         7.808  \n",
       "3      22.527778              0.748928         7.808  \n",
       "4      27.050000              0.714586         7.808  "
      ]
     },
     "execution_count": 5,
     "metadata": {},
     "output_type": "execute_result"
    }
   ],
   "source": [
    "# Read_the_dataset\n",
    "\n",
    "sales = pd.read_csv(dataset_path)\n",
    "sales.head()"
   ]
  },
  {
   "cell_type": "code",
   "execution_count": 25,
   "id": "41380a0e-6f65-4f78-88ca-6a04c462d8ab",
   "metadata": {},
   "outputs": [
    {
     "data": {
      "text/html": [
       "<div>\n",
       "<style scoped>\n",
       "    .dataframe tbody tr th:only-of-type {\n",
       "        vertical-align: middle;\n",
       "    }\n",
       "\n",
       "    .dataframe tbody tr th {\n",
       "        vertical-align: top;\n",
       "    }\n",
       "\n",
       "    .dataframe thead th {\n",
       "        text-align: right;\n",
       "    }\n",
       "</style>\n",
       "<table border=\"1\" class=\"dataframe\">\n",
       "  <thead>\n",
       "    <tr style=\"text-align: right;\">\n",
       "      <th></th>\n",
       "      <th>store</th>\n",
       "      <th>type</th>\n",
       "      <th>department</th>\n",
       "      <th>date</th>\n",
       "      <th>weekly_sales</th>\n",
       "      <th>is_holiday</th>\n",
       "      <th>temperature_c</th>\n",
       "      <th>fuel_price_usd_per_l</th>\n",
       "      <th>unemployment</th>\n",
       "    </tr>\n",
       "  </thead>\n",
       "  <tbody>\n",
       "    <tr>\n",
       "      <th>0</th>\n",
       "      <td>1</td>\n",
       "      <td>A</td>\n",
       "      <td>1</td>\n",
       "      <td>2010-02-05</td>\n",
       "      <td>24924.50</td>\n",
       "      <td>False</td>\n",
       "      <td>5.727778</td>\n",
       "      <td>0.679451</td>\n",
       "      <td>8.106</td>\n",
       "    </tr>\n",
       "    <tr>\n",
       "      <th>1</th>\n",
       "      <td>1</td>\n",
       "      <td>A</td>\n",
       "      <td>1</td>\n",
       "      <td>2010-03-05</td>\n",
       "      <td>21827.90</td>\n",
       "      <td>False</td>\n",
       "      <td>8.055556</td>\n",
       "      <td>0.693452</td>\n",
       "      <td>8.106</td>\n",
       "    </tr>\n",
       "    <tr>\n",
       "      <th>2</th>\n",
       "      <td>1</td>\n",
       "      <td>A</td>\n",
       "      <td>1</td>\n",
       "      <td>2010-04-02</td>\n",
       "      <td>57258.43</td>\n",
       "      <td>False</td>\n",
       "      <td>16.816667</td>\n",
       "      <td>0.718284</td>\n",
       "      <td>7.808</td>\n",
       "    </tr>\n",
       "    <tr>\n",
       "      <th>3</th>\n",
       "      <td>1</td>\n",
       "      <td>A</td>\n",
       "      <td>1</td>\n",
       "      <td>2010-05-07</td>\n",
       "      <td>17413.94</td>\n",
       "      <td>False</td>\n",
       "      <td>22.527778</td>\n",
       "      <td>0.748928</td>\n",
       "      <td>7.808</td>\n",
       "    </tr>\n",
       "    <tr>\n",
       "      <th>4</th>\n",
       "      <td>1</td>\n",
       "      <td>A</td>\n",
       "      <td>1</td>\n",
       "      <td>2010-06-04</td>\n",
       "      <td>17558.09</td>\n",
       "      <td>False</td>\n",
       "      <td>27.050000</td>\n",
       "      <td>0.714586</td>\n",
       "      <td>7.808</td>\n",
       "    </tr>\n",
       "  </tbody>\n",
       "</table>\n",
       "</div>"
      ],
      "text/plain": [
       "   store type  department        date  weekly_sales  is_holiday  \\\n",
       "0      1    A           1  2010-02-05      24924.50       False   \n",
       "1      1    A           1  2010-03-05      21827.90       False   \n",
       "2      1    A           1  2010-04-02      57258.43       False   \n",
       "3      1    A           1  2010-05-07      17413.94       False   \n",
       "4      1    A           1  2010-06-04      17558.09       False   \n",
       "\n",
       "   temperature_c  fuel_price_usd_per_l  unemployment  \n",
       "0       5.727778              0.679451         8.106  \n",
       "1       8.055556              0.693452         8.106  \n",
       "2      16.816667              0.718284         7.808  \n",
       "3      22.527778              0.748928         7.808  \n",
       "4      27.050000              0.714586         7.808  "
      ]
     },
     "execution_count": 25,
     "metadata": {},
     "output_type": "execute_result"
    }
   ],
   "source": [
    "# Drop_a_column(s)_from_a_dataframe \n",
    "\n",
    "sales = sales.drop(columns=['Unnamed: 0'])\n",
    "sales.head()"
   ]
  },
  {
   "cell_type": "code",
   "execution_count": 26,
   "id": "3cc19aa9-205f-40a4-bf89-947b9547b2e1",
   "metadata": {},
   "outputs": [
    {
     "name": "stdout",
     "output_type": "stream",
     "text": [
      "<class 'pandas.core.frame.DataFrame'>\n",
      "RangeIndex: 10774 entries, 0 to 10773\n",
      "Data columns (total 9 columns):\n",
      " #   Column                Non-Null Count  Dtype  \n",
      "---  ------                --------------  -----  \n",
      " 0   store                 10774 non-null  int64  \n",
      " 1   type                  10774 non-null  object \n",
      " 2   department            10774 non-null  int64  \n",
      " 3   date                  10774 non-null  object \n",
      " 4   weekly_sales          10774 non-null  float64\n",
      " 5   is_holiday            10774 non-null  bool   \n",
      " 6   temperature_c         10774 non-null  float64\n",
      " 7   fuel_price_usd_per_l  10774 non-null  float64\n",
      " 8   unemployment          10774 non-null  float64\n",
      "dtypes: bool(1), float64(4), int64(2), object(2)\n",
      "memory usage: 684.0+ KB\n"
     ]
    }
   ],
   "source": [
    "sales.info()"
   ]
  },
  {
   "cell_type": "code",
   "execution_count": 30,
   "id": "e0fa8545-3d77-4c62-ba1b-fe42afe5e504",
   "metadata": {},
   "outputs": [
    {
     "name": "stdout",
     "output_type": "stream",
     "text": [
      "23843.95014850566\n",
      "23843.95014850566\n"
     ]
    }
   ],
   "source": [
    " # mean\n",
    "average_sales = sales['weekly_sales'].mean()\n",
    "print(average_sales)\n",
    "\n",
    "import numpy as np\n",
    "average_sales = np.mean(sales['weekly_sales'])\n",
    "print(average_sales) # numpy panda same "
   ]
  },
  {
   "cell_type": "code",
   "execution_count": 29,
   "id": "aee1e7a5-70bf-4247-a34d-20e6bf51bd67",
   "metadata": {},
   "outputs": [
    {
     "name": "stdout",
     "output_type": "stream",
     "text": [
      "mean 23843.95014850566\n",
      "median 12049.064999999999\n",
      "max 2012-10-26\n",
      "min 2010-02-05\n",
      "sum 256894718.89999998\n"
     ]
    }
   ],
   "source": [
    "print(\"mean\", sales[\"weekly_sales\"].mean())\n",
    "print(\"median\", sales[\"weekly_sales\"].median())\n",
    "print(\"max\", sales[\"date\"].max())\n",
    "print(\"min\", sales[\"date\"].min())\n",
    "print(\"sum\", sales['weekly_sales'].sum())"
   ]
  },
  {
   "cell_type": "code",
   "execution_count": 31,
   "id": "dddc2322-8e2b-436d-aa6a-9831161d621e",
   "metadata": {},
   "outputs": [
    {
     "data": {
      "text/plain": [
       "0        2.492450e+04\n",
       "1        4.675240e+04\n",
       "2        1.040108e+05\n",
       "3        1.214248e+05\n",
       "4        1.389829e+05\n",
       "             ...     \n",
       "10769    2.568930e+08\n",
       "10770    2.568934e+08\n",
       "10771    2.568938e+08\n",
       "10772    2.568938e+08\n",
       "10773    2.568947e+08\n",
       "Name: weekly_sales, Length: 10774, dtype: float64"
      ]
     },
     "execution_count": 31,
     "metadata": {},
     "output_type": "execute_result"
    }
   ],
   "source": [
    "# - cumsum → এখন পর্যন্ত বিক্রির যোগফল\n",
    "# - cummax → এখন পর্যন্ত বিক্রির সর্বোচ্চ মান\n",
    "# - cummin → এখন পর্যন্ত বিক্রির সর্বনিম্ন মান\n",
    "\n",
    "\n",
    "# Cumulative_sum (accumulated_sum)\n",
    "\n",
    "sales[\"weekly_sales\"].cumsum()"
   ]
  },
  {
   "cell_type": "code",
   "execution_count": 32,
   "id": "12d1d9b9-acc2-4d76-9d59-01e8b92ef217",
   "metadata": {},
   "outputs": [
    {
     "data": {
      "text/plain": [
       "0         24924.50\n",
       "1         24924.50\n",
       "2         57258.43\n",
       "3         57258.43\n",
       "4         57258.43\n",
       "           ...    \n",
       "10769    293966.05\n",
       "10770    293966.05\n",
       "10771    293966.05\n",
       "10772    293966.05\n",
       "10773    293966.05\n",
       "Name: weekly_sales, Length: 10774, dtype: float64"
      ]
     },
     "execution_count": 32,
     "metadata": {},
     "output_type": "execute_result"
    }
   ],
   "source": [
    "# cumulative_maximum\n",
    "\n",
    "sales[\"weekly_sales\"].cummax()"
   ]
  },
  {
   "cell_type": "code",
   "execution_count": 33,
   "id": "12ad0feb-ded9-45d7-86f4-3490d7f46606",
   "metadata": {},
   "outputs": [
    {
     "data": {
      "text/plain": [
       "0        24924.50\n",
       "1        21827.90\n",
       "2        21827.90\n",
       "3        17413.94\n",
       "4        17413.94\n",
       "           ...   \n",
       "10769    -1098.00\n",
       "10770    -1098.00\n",
       "10771    -1098.00\n",
       "10772    -1098.00\n",
       "10773    -1098.00\n",
       "Name: weekly_sales, Length: 10774, dtype: float64"
      ]
     },
     "execution_count": 33,
     "metadata": {},
     "output_type": "execute_result"
    }
   ],
   "source": [
    "# cumulative_minimum\n",
    "\n",
    "sales[\"weekly_sales\"].cummin()"
   ]
  },
  {
   "cell_type": "code",
   "execution_count": 6,
   "id": "c88da4a8-540f-4d0e-89d3-8783462a7fde",
   "metadata": {},
   "outputs": [
    {
     "data": {
      "text/plain": [
       "weekly_sales            23843.950149\n",
       "fuel_price_usd_per_l        0.749746\n",
       "dtype: float64"
      ]
     },
     "execution_count": 6,
     "metadata": {},
     "output_type": "execute_result"
    }
   ],
   "source": [
    "# mean\n",
    "\n",
    "sales[ [\"weekly_sales\", \"fuel_price_usd_per_l\"] ].mean()"
   ]
  },
  {
   "cell_type": "markdown",
   "id": "1dea073b-e7fc-4eff-b08b-6bb0fced883c",
   "metadata": {},
   "source": [
    "- Apply_custom_methods_on_pandas_dataframe\n",
    "\n",
    "- weekly_sales = [2 3 1 4 2]\n",
    "mean = 2.4\n",
    "- standard_x = (x - mean)/std"
   ]
  },
  {
   "cell_type": "code",
   "execution_count": 10,
   "id": "951d9981-f05e-43bf-92e3-68549a4eb53b",
   "metadata": {},
   "outputs": [
    {
     "name": "stdout",
     "output_type": "stream",
     "text": [
      "2.4 1.140175425099138\n"
     ]
    }
   ],
   "source": [
    "import pandas as np\n",
    "\n",
    "weekly_sales = np.array([2, 3, 1, 4, 2])\n",
    "print(weekly_sales.mean(), weekly_sales.std())"
   ]
  },
  {
   "cell_type": "code",
   "execution_count": 13,
   "id": "1f75cf31-a265-450d-8587-0722e58148dc",
   "metadata": {},
   "outputs": [
    {
     "data": {
      "text/plain": [
       "<FloatingArray>\n",
       "[-0.35082320772281156,   0.5262348115842176,  -1.2278812270298407,\n",
       "   1.4032928308912467, -0.35082320772281156]\n",
       "Length: 5, dtype: Float64"
      ]
     },
     "execution_count": 13,
     "metadata": {},
     "output_type": "execute_result"
    }
   ],
   "source": [
    "# zero_mean_and_unit_variance\n",
    "\n",
    "def normalize(col):\n",
    "    mean = col.mean()\n",
    "    std = col.std()\n",
    "    return (col - mean) / std\n",
    "    \n",
    "normalize(weekly_sales)"
   ]
  },
  {
   "cell_type": "code",
   "execution_count": 17,
   "id": "dcc1d5dc-4a55-4fe1-9196-7c950f50da15",
   "metadata": {},
   "outputs": [
    {
     "name": "stderr",
     "output_type": "stream",
     "text": [
      "C:\\Users\\mrmdh\\AppData\\Local\\Temp\\ipykernel_10200\\2105745962.py:6: FutureWarning: The provided callable <function cumsum at 0x000002A24852AD40> is currently using Series.cumsum. In a future version of pandas, the provided callable will be used directly. To keep current behavior pass the string \"cumsum\" instead.\n",
      "  ['weekly_sales', 'temperature_c']].agg([normalize, np.cumsum])\n"
     ]
    },
    {
     "data": {
      "text/html": [
       "<div>\n",
       "<style scoped>\n",
       "    .dataframe tbody tr th:only-of-type {\n",
       "        vertical-align: middle;\n",
       "    }\n",
       "\n",
       "    .dataframe tbody tr th {\n",
       "        vertical-align: top;\n",
       "    }\n",
       "\n",
       "    .dataframe thead tr th {\n",
       "        text-align: left;\n",
       "    }\n",
       "</style>\n",
       "<table border=\"1\" class=\"dataframe\">\n",
       "  <thead>\n",
       "    <tr>\n",
       "      <th></th>\n",
       "      <th colspan=\"2\" halign=\"left\">weekly_sales</th>\n",
       "      <th colspan=\"2\" halign=\"left\">temperature_c</th>\n",
       "    </tr>\n",
       "    <tr>\n",
       "      <th></th>\n",
       "      <th>normalize</th>\n",
       "      <th>cumsum</th>\n",
       "      <th>normalize</th>\n",
       "      <th>cumsum</th>\n",
       "    </tr>\n",
       "  </thead>\n",
       "  <tbody>\n",
       "    <tr>\n",
       "      <th>0</th>\n",
       "      <td>0.035756</td>\n",
       "      <td>2.492450e+04</td>\n",
       "      <td>-1.008239</td>\n",
       "      <td>5.727778</td>\n",
       "    </tr>\n",
       "    <tr>\n",
       "      <th>1</th>\n",
       "      <td>-0.066712</td>\n",
       "      <td>4.675240e+04</td>\n",
       "      <td>-0.773642</td>\n",
       "      <td>13.783333</td>\n",
       "    </tr>\n",
       "    <tr>\n",
       "      <th>2</th>\n",
       "      <td>1.105693</td>\n",
       "      <td>1.040108e+05</td>\n",
       "      <td>0.109317</td>\n",
       "      <td>30.600000</td>\n",
       "    </tr>\n",
       "    <tr>\n",
       "      <th>3</th>\n",
       "      <td>-0.212771</td>\n",
       "      <td>1.214248e+05</td>\n",
       "      <td>0.684892</td>\n",
       "      <td>53.127778</td>\n",
       "    </tr>\n",
       "    <tr>\n",
       "      <th>4</th>\n",
       "      <td>-0.208001</td>\n",
       "      <td>1.389829e+05</td>\n",
       "      <td>1.140648</td>\n",
       "      <td>80.177778</td>\n",
       "    </tr>\n",
       "    <tr>\n",
       "      <th>...</th>\n",
       "      <td>...</td>\n",
       "      <td>...</td>\n",
       "      <td>...</td>\n",
       "      <td>...</td>\n",
       "    </tr>\n",
       "    <tr>\n",
       "      <th>10769</th>\n",
       "      <td>-0.759386</td>\n",
       "      <td>2.568930e+08</td>\n",
       "      <td>-0.613511</td>\n",
       "      <td>169405.211111</td>\n",
       "    </tr>\n",
       "    <tr>\n",
       "      <th>10770</th>\n",
       "      <td>-0.777421</td>\n",
       "      <td>2.568934e+08</td>\n",
       "      <td>0.020853</td>\n",
       "      <td>169421.150000</td>\n",
       "    </tr>\n",
       "    <tr>\n",
       "      <th>10771</th>\n",
       "      <td>-0.774112</td>\n",
       "      <td>2.568938e+08</td>\n",
       "      <td>1.164724</td>\n",
       "      <td>169448.438889</td>\n",
       "    </tr>\n",
       "    <tr>\n",
       "      <th>10772</th>\n",
       "      <td>-0.789000</td>\n",
       "      <td>2.568938e+08</td>\n",
       "      <td>0.998994</td>\n",
       "      <td>169474.083333</td>\n",
       "    </tr>\n",
       "    <tr>\n",
       "      <th>10773</th>\n",
       "      <td>-0.758725</td>\n",
       "      <td>2.568947e+08</td>\n",
       "      <td>0.656897</td>\n",
       "      <td>169496.333333</td>\n",
       "    </tr>\n",
       "  </tbody>\n",
       "</table>\n",
       "<p>10774 rows × 4 columns</p>\n",
       "</div>"
      ],
      "text/plain": [
       "      weekly_sales               temperature_c               \n",
       "         normalize        cumsum     normalize         cumsum\n",
       "0         0.035756  2.492450e+04     -1.008239       5.727778\n",
       "1        -0.066712  4.675240e+04     -0.773642      13.783333\n",
       "2         1.105693  1.040108e+05      0.109317      30.600000\n",
       "3        -0.212771  1.214248e+05      0.684892      53.127778\n",
       "4        -0.208001  1.389829e+05      1.140648      80.177778\n",
       "...            ...           ...           ...            ...\n",
       "10769    -0.759386  2.568930e+08     -0.613511  169405.211111\n",
       "10770    -0.777421  2.568934e+08      0.020853  169421.150000\n",
       "10771    -0.774112  2.568938e+08      1.164724  169448.438889\n",
       "10772    -0.789000  2.568938e+08      0.998994  169474.083333\n",
       "10773    -0.758725  2.568947e+08      0.656897  169496.333333\n",
       "\n",
       "[10774 rows x 4 columns]"
      ]
     },
     "execution_count": 17,
     "metadata": {},
     "output_type": "execute_result"
    }
   ],
   "source": [
    "import numpy as np\n",
    "average_sales = np.mean(sales['weekly_sales'])\n",
    "\n",
    "\n",
    "normalized_weekly_sales_and_temperature = sales[\n",
    "    ['weekly_sales', 'temperature_c']].agg([normalize, np.cumsum])\n",
    "normalized_weekly_sales_and_temperature"
   ]
  },
  {
   "cell_type": "code",
   "execution_count": 18,
   "id": "ac780648-c22e-44bd-a5fa-e2bd0f726ffd",
   "metadata": {},
   "outputs": [
    {
     "data": {
      "text/plain": [
       "MultiIndex([( 'weekly_sales', 'normalize'),\n",
       "            ( 'weekly_sales',    'cumsum'),\n",
       "            ('temperature_c', 'normalize'),\n",
       "            ('temperature_c',    'cumsum')],\n",
       "           )"
      ]
     },
     "execution_count": 18,
     "metadata": {},
     "output_type": "execute_result"
    }
   ],
   "source": [
    "normalized_weekly_sales_and_temperature.columns"
   ]
  },
  {
   "cell_type": "markdown",
   "id": "bb2d063b-33c2-4558-b366-41e5c0e56a0b",
   "metadata": {},
   "source": [
    "- Pandas_methods_for_categorical_data"
   ]
  },
  {
   "cell_type": "code",
   "execution_count": 19,
   "id": "33fd887f-7bf1-4653-bed2-d5b28e0e2a1a",
   "metadata": {},
   "outputs": [
    {
     "data": {
      "text/plain": [
       "type\n",
       "A       9872\n",
       "B        902\n",
       "Name: count, dtype: int64"
      ]
     },
     "execution_count": 19,
     "metadata": {},
     "output_type": "execute_result"
    }
   ],
   "source": [
    "sales[['type']].value_counts()"
   ]
  },
  {
   "cell_type": "code",
   "execution_count": 20,
   "id": "63ff50ce-f1ae-4d3f-a07e-96314e15a0a2",
   "metadata": {},
   "outputs": [
    {
     "data": {
      "text/plain": [
       "store\n",
       "13       913\n",
       "20       910\n",
       "19       906\n",
       "10       902\n",
       "4        901\n",
       "1        901\n",
       "27       900\n",
       "2        897\n",
       "6        894\n",
       "31       890\n",
       "14       885\n",
       "39       875\n",
       "Name: count, dtype: int64"
      ]
     },
     "execution_count": 20,
     "metadata": {},
     "output_type": "execute_result"
    }
   ],
   "source": [
    "sales[['store']].value_counts()"
   ]
  },
  {
   "cell_type": "code",
   "execution_count": 21,
   "id": "e5ba6da8-9cfe-4a38-a993-ff2bbb0cab21",
   "metadata": {},
   "outputs": [
    {
     "data": {
      "text/plain": [
       "store\n",
       "13       913\n",
       "20       910\n",
       "19       906\n",
       "10       902\n",
       "4        901\n",
       "1        901\n",
       "27       900\n",
       "2        897\n",
       "6        894\n",
       "31       890\n",
       "14       885\n",
       "39       875\n",
       "Name: count, dtype: int64"
      ]
     },
     "execution_count": 21,
     "metadata": {},
     "output_type": "execute_result"
    }
   ],
   "source": [
    "sales[['store']].value_counts(ascending=False)"
   ]
  },
  {
   "cell_type": "markdown",
   "id": "1ae7b618-9534-45f4-b126-c844de160154",
   "metadata": {},
   "source": [
    "Group By \n",
    "\n",
    "- Remember that group by logically splits the rows into multiple dataframes\n",
    "- If we group by type there will two logical dataframes\n",
    "- df_with_type_A\n",
    "- df_with_type_B\n"
   ]
  },
  {
   "cell_type": "code",
   "execution_count": 23,
   "id": "d4b07128-36fb-46b1-8f94-f79695490436",
   "metadata": {},
   "outputs": [
    {
     "data": {
      "text/html": [
       "<div>\n",
       "<style scoped>\n",
       "    .dataframe tbody tr th:only-of-type {\n",
       "        vertical-align: middle;\n",
       "    }\n",
       "\n",
       "    .dataframe tbody tr th {\n",
       "        vertical-align: top;\n",
       "    }\n",
       "\n",
       "    .dataframe thead th {\n",
       "        text-align: right;\n",
       "    }\n",
       "</style>\n",
       "<table border=\"1\" class=\"dataframe\">\n",
       "  <thead>\n",
       "    <tr style=\"text-align: right;\">\n",
       "      <th></th>\n",
       "      <th>Unnamed: 0</th>\n",
       "      <th>store</th>\n",
       "      <th>type</th>\n",
       "      <th>department</th>\n",
       "      <th>date</th>\n",
       "      <th>weekly_sales</th>\n",
       "      <th>is_holiday</th>\n",
       "      <th>temperature_c</th>\n",
       "      <th>fuel_price_usd_per_l</th>\n",
       "      <th>unemployment</th>\n",
       "    </tr>\n",
       "  </thead>\n",
       "  <tbody>\n",
       "    <tr>\n",
       "      <th>0</th>\n",
       "      <td>0</td>\n",
       "      <td>1</td>\n",
       "      <td>A</td>\n",
       "      <td>1</td>\n",
       "      <td>2010-02-05</td>\n",
       "      <td>24924.50</td>\n",
       "      <td>False</td>\n",
       "      <td>5.727778</td>\n",
       "      <td>0.679451</td>\n",
       "      <td>8.106</td>\n",
       "    </tr>\n",
       "    <tr>\n",
       "      <th>1</th>\n",
       "      <td>1</td>\n",
       "      <td>1</td>\n",
       "      <td>A</td>\n",
       "      <td>1</td>\n",
       "      <td>2010-03-05</td>\n",
       "      <td>21827.90</td>\n",
       "      <td>False</td>\n",
       "      <td>8.055556</td>\n",
       "      <td>0.693452</td>\n",
       "      <td>8.106</td>\n",
       "    </tr>\n",
       "    <tr>\n",
       "      <th>2</th>\n",
       "      <td>2</td>\n",
       "      <td>1</td>\n",
       "      <td>A</td>\n",
       "      <td>1</td>\n",
       "      <td>2010-04-02</td>\n",
       "      <td>57258.43</td>\n",
       "      <td>False</td>\n",
       "      <td>16.816667</td>\n",
       "      <td>0.718284</td>\n",
       "      <td>7.808</td>\n",
       "    </tr>\n",
       "    <tr>\n",
       "      <th>3</th>\n",
       "      <td>3</td>\n",
       "      <td>1</td>\n",
       "      <td>A</td>\n",
       "      <td>1</td>\n",
       "      <td>2010-05-07</td>\n",
       "      <td>17413.94</td>\n",
       "      <td>False</td>\n",
       "      <td>22.527778</td>\n",
       "      <td>0.748928</td>\n",
       "      <td>7.808</td>\n",
       "    </tr>\n",
       "    <tr>\n",
       "      <th>4</th>\n",
       "      <td>4</td>\n",
       "      <td>1</td>\n",
       "      <td>A</td>\n",
       "      <td>1</td>\n",
       "      <td>2010-06-04</td>\n",
       "      <td>17558.09</td>\n",
       "      <td>False</td>\n",
       "      <td>27.050000</td>\n",
       "      <td>0.714586</td>\n",
       "      <td>7.808</td>\n",
       "    </tr>\n",
       "    <tr>\n",
       "      <th>3593</th>\n",
       "      <td>3593</td>\n",
       "      <td>10</td>\n",
       "      <td>B</td>\n",
       "      <td>1</td>\n",
       "      <td>2010-02-05</td>\n",
       "      <td>40212.84</td>\n",
       "      <td>False</td>\n",
       "      <td>12.411111</td>\n",
       "      <td>0.782478</td>\n",
       "      <td>9.765</td>\n",
       "    </tr>\n",
       "    <tr>\n",
       "      <th>3594</th>\n",
       "      <td>3594</td>\n",
       "      <td>10</td>\n",
       "      <td>B</td>\n",
       "      <td>1</td>\n",
       "      <td>2010-03-05</td>\n",
       "      <td>36572.44</td>\n",
       "      <td>False</td>\n",
       "      <td>13.288889</td>\n",
       "      <td>0.760023</td>\n",
       "      <td>9.765</td>\n",
       "    </tr>\n",
       "    <tr>\n",
       "      <th>3595</th>\n",
       "      <td>3595</td>\n",
       "      <td>10</td>\n",
       "      <td>B</td>\n",
       "      <td>1</td>\n",
       "      <td>2010-04-02</td>\n",
       "      <td>131853.01</td>\n",
       "      <td>False</td>\n",
       "      <td>17.588889</td>\n",
       "      <td>0.815235</td>\n",
       "      <td>9.524</td>\n",
       "    </tr>\n",
       "    <tr>\n",
       "      <th>3596</th>\n",
       "      <td>3596</td>\n",
       "      <td>10</td>\n",
       "      <td>B</td>\n",
       "      <td>1</td>\n",
       "      <td>2010-05-07</td>\n",
       "      <td>29819.93</td>\n",
       "      <td>False</td>\n",
       "      <td>21.700000</td>\n",
       "      <td>0.826066</td>\n",
       "      <td>9.524</td>\n",
       "    </tr>\n",
       "    <tr>\n",
       "      <th>3597</th>\n",
       "      <td>3597</td>\n",
       "      <td>10</td>\n",
       "      <td>B</td>\n",
       "      <td>1</td>\n",
       "      <td>2010-06-04</td>\n",
       "      <td>27739.80</td>\n",
       "      <td>False</td>\n",
       "      <td>28.233333</td>\n",
       "      <td>0.776930</td>\n",
       "      <td>9.524</td>\n",
       "    </tr>\n",
       "  </tbody>\n",
       "</table>\n",
       "</div>"
      ],
      "text/plain": [
       "      Unnamed: 0  store type  department        date  weekly_sales  \\\n",
       "0              0      1    A           1  2010-02-05      24924.50   \n",
       "1              1      1    A           1  2010-03-05      21827.90   \n",
       "2              2      1    A           1  2010-04-02      57258.43   \n",
       "3              3      1    A           1  2010-05-07      17413.94   \n",
       "4              4      1    A           1  2010-06-04      17558.09   \n",
       "3593        3593     10    B           1  2010-02-05      40212.84   \n",
       "3594        3594     10    B           1  2010-03-05      36572.44   \n",
       "3595        3595     10    B           1  2010-04-02     131853.01   \n",
       "3596        3596     10    B           1  2010-05-07      29819.93   \n",
       "3597        3597     10    B           1  2010-06-04      27739.80   \n",
       "\n",
       "      is_holiday  temperature_c  fuel_price_usd_per_l  unemployment  \n",
       "0          False       5.727778              0.679451         8.106  \n",
       "1          False       8.055556              0.693452         8.106  \n",
       "2          False      16.816667              0.718284         7.808  \n",
       "3          False      22.527778              0.748928         7.808  \n",
       "4          False      27.050000              0.714586         7.808  \n",
       "3593       False      12.411111              0.782478         9.765  \n",
       "3594       False      13.288889              0.760023         9.765  \n",
       "3595       False      17.588889              0.815235         9.524  \n",
       "3596       False      21.700000              0.826066         9.524  \n",
       "3597       False      28.233333              0.776930         9.524  "
      ]
     },
     "execution_count": 23,
     "metadata": {},
     "output_type": "execute_result"
    }
   ],
   "source": [
    "sales_grouped_type = sales.groupby('type')\n",
    "\n",
    "sales_grouped_type.head()"
   ]
  },
  {
   "cell_type": "code",
   "execution_count": 24,
   "id": "b4d8bf2f-b9f8-4153-8443-592a0805a2f9",
   "metadata": {},
   "outputs": [
    {
     "data": {
      "text/plain": [
       "type\n",
       "A    2.337163e+08\n",
       "B    2.317840e+07\n",
       "Name: weekly_sales, dtype: float64"
      ]
     },
     "execution_count": 24,
     "metadata": {},
     "output_type": "execute_result"
    }
   ],
   "source": [
    "sales_grouped_type['weekly_sales'].sum()"
   ]
  },
  {
   "cell_type": "code",
   "execution_count": 25,
   "id": "89233f74-e2ef-4dd9-8898-9a2befdec76a",
   "metadata": {},
   "outputs": [
    {
     "name": "stderr",
     "output_type": "stream",
     "text": [
      "C:\\Users\\mrmdh\\AppData\\Local\\Temp\\ipykernel_10200\\2869706471.py:1: FutureWarning: The provided callable <built-in function min> is currently using SeriesGroupBy.min. In a future version of pandas, the provided callable will be used directly. To keep current behavior pass the string \"min\" instead.\n",
      "  sales_stats = sales_grouped_type[\"weekly_sales\"].agg([min, max, np.mean, np.median])\n",
      "C:\\Users\\mrmdh\\AppData\\Local\\Temp\\ipykernel_10200\\2869706471.py:1: FutureWarning: The provided callable <built-in function max> is currently using SeriesGroupBy.max. In a future version of pandas, the provided callable will be used directly. To keep current behavior pass the string \"max\" instead.\n",
      "  sales_stats = sales_grouped_type[\"weekly_sales\"].agg([min, max, np.mean, np.median])\n",
      "C:\\Users\\mrmdh\\AppData\\Local\\Temp\\ipykernel_10200\\2869706471.py:1: FutureWarning: The provided callable <function mean at 0x000002A24852BA60> is currently using SeriesGroupBy.mean. In a future version of pandas, the provided callable will be used directly. To keep current behavior pass the string \"mean\" instead.\n",
      "  sales_stats = sales_grouped_type[\"weekly_sales\"].agg([min, max, np.mean, np.median])\n",
      "C:\\Users\\mrmdh\\AppData\\Local\\Temp\\ipykernel_10200\\2869706471.py:1: FutureWarning: The provided callable <function median at 0x000002A24867E660> is currently using SeriesGroupBy.median. In a future version of pandas, the provided callable will be used directly. To keep current behavior pass the string \"median\" instead.\n",
      "  sales_stats = sales_grouped_type[\"weekly_sales\"].agg([min, max, np.mean, np.median])\n"
     ]
    },
    {
     "data": {
      "text/html": [
       "<div>\n",
       "<style scoped>\n",
       "    .dataframe tbody tr th:only-of-type {\n",
       "        vertical-align: middle;\n",
       "    }\n",
       "\n",
       "    .dataframe tbody tr th {\n",
       "        vertical-align: top;\n",
       "    }\n",
       "\n",
       "    .dataframe thead th {\n",
       "        text-align: right;\n",
       "    }\n",
       "</style>\n",
       "<table border=\"1\" class=\"dataframe\">\n",
       "  <thead>\n",
       "    <tr style=\"text-align: right;\">\n",
       "      <th></th>\n",
       "      <th>min</th>\n",
       "      <th>max</th>\n",
       "      <th>mean</th>\n",
       "      <th>median</th>\n",
       "    </tr>\n",
       "    <tr>\n",
       "      <th>type</th>\n",
       "      <th></th>\n",
       "      <th></th>\n",
       "      <th></th>\n",
       "      <th></th>\n",
       "    </tr>\n",
       "  </thead>\n",
       "  <tbody>\n",
       "    <tr>\n",
       "      <th>A</th>\n",
       "      <td>-1098.0</td>\n",
       "      <td>293966.05</td>\n",
       "      <td>23674.667242</td>\n",
       "      <td>11943.92</td>\n",
       "    </tr>\n",
       "    <tr>\n",
       "      <th>B</th>\n",
       "      <td>-798.0</td>\n",
       "      <td>232558.51</td>\n",
       "      <td>25696.678370</td>\n",
       "      <td>13336.08</td>\n",
       "    </tr>\n",
       "  </tbody>\n",
       "</table>\n",
       "</div>"
      ],
      "text/plain": [
       "         min        max          mean    median\n",
       "type                                           \n",
       "A    -1098.0  293966.05  23674.667242  11943.92\n",
       "B     -798.0  232558.51  25696.678370  13336.08"
      ]
     },
     "execution_count": 25,
     "metadata": {},
     "output_type": "execute_result"
    }
   ],
   "source": [
    "sales_stats = sales_grouped_type[\"weekly_sales\"].agg([min, max, np.mean, np.median])\n",
    "sales_stats"
   ]
  },
  {
   "cell_type": "code",
   "execution_count": 26,
   "id": "37929450-0b2a-44c6-a8a9-a548879431c3",
   "metadata": {},
   "outputs": [
    {
     "name": "stdout",
     "output_type": "stream",
     "text": [
      "Unnamed: 0                       0\n",
      "store                            1\n",
      "type                             A\n",
      "department                       1\n",
      "date                    2010-02-05\n",
      "weekly_sales               24924.5\n",
      "is_holiday                   False\n",
      "temperature_c             5.727778\n",
      "fuel_price_usd_per_l      0.679451\n",
      "unemployment                 8.106\n",
      "Name: 0, dtype: object\n"
     ]
    }
   ],
   "source": [
    "row = sales.iloc[0,:]\n",
    "print(row)"
   ]
  },
  {
   "cell_type": "code",
   "execution_count": 27,
   "id": "c4c6b384-3c95-4c1c-b589-b2e399d135e1",
   "metadata": {},
   "outputs": [
    {
     "name": "stdout",
     "output_type": "stream",
     "text": [
      "   department        date\n",
      "1           1  2010-03-05\n",
      "2           1  2010-04-02\n",
      "3           1  2010-05-07\n",
      "4           1  2010-06-04\n"
     ]
    }
   ],
   "source": [
    "rows = sales.iloc[1:5,3:5]\n",
    "print(rows)"
   ]
  },
  {
   "cell_type": "markdown",
   "id": "4270a19b-902f-4d2d-ae49-6ef46f0d0b8b",
   "metadata": {},
   "source": [
    "Pivot_table\n",
    "\n",
    "- First_groups_the_dataframe_by_index = type\n",
    "- df_with_type_A, df_with_type_B\n",
    "- Apply the methods aggfunc=[min, max, np.mean, np.median] \n",
    "- on columns = ['weekly_sales'],\n"
   ]
  },
  {
   "cell_type": "code",
   "execution_count": 28,
   "id": "d82ee70c-3780-441a-b790-efd9228c793f",
   "metadata": {},
   "outputs": [
    {
     "name": "stderr",
     "output_type": "stream",
     "text": [
      "C:\\Users\\mrmdh\\AppData\\Local\\Temp\\ipykernel_10200\\3606495514.py:1: FutureWarning: The provided callable <built-in function min> is currently using DataFrameGroupBy.min. In a future version of pandas, the provided callable will be used directly. To keep current behavior pass the string \"min\" instead.\n",
      "  mean_sales_by_type_holiday = sales.pivot_table(\n",
      "C:\\Users\\mrmdh\\AppData\\Local\\Temp\\ipykernel_10200\\3606495514.py:1: FutureWarning: The provided callable <built-in function max> is currently using DataFrameGroupBy.max. In a future version of pandas, the provided callable will be used directly. To keep current behavior pass the string \"max\" instead.\n",
      "  mean_sales_by_type_holiday = sales.pivot_table(\n",
      "C:\\Users\\mrmdh\\AppData\\Local\\Temp\\ipykernel_10200\\3606495514.py:1: FutureWarning: The provided callable <function mean at 0x000002A24852BA60> is currently using DataFrameGroupBy.mean. In a future version of pandas, the provided callable will be used directly. To keep current behavior pass the string \"mean\" instead.\n",
      "  mean_sales_by_type_holiday = sales.pivot_table(\n",
      "C:\\Users\\mrmdh\\AppData\\Local\\Temp\\ipykernel_10200\\3606495514.py:1: FutureWarning: The provided callable <function median at 0x000002A24867E660> is currently using DataFrameGroupBy.median. In a future version of pandas, the provided callable will be used directly. To keep current behavior pass the string \"median\" instead.\n",
      "  mean_sales_by_type_holiday = sales.pivot_table(\n"
     ]
    },
    {
     "data": {
      "text/html": [
       "<div>\n",
       "<style scoped>\n",
       "    .dataframe tbody tr th:only-of-type {\n",
       "        vertical-align: middle;\n",
       "    }\n",
       "\n",
       "    .dataframe tbody tr th {\n",
       "        vertical-align: top;\n",
       "    }\n",
       "\n",
       "    .dataframe thead tr th {\n",
       "        text-align: left;\n",
       "    }\n",
       "\n",
       "    .dataframe thead tr:last-of-type th {\n",
       "        text-align: right;\n",
       "    }\n",
       "</style>\n",
       "<table border=\"1\" class=\"dataframe\">\n",
       "  <thead>\n",
       "    <tr>\n",
       "      <th></th>\n",
       "      <th colspan=\"2\" halign=\"left\">min</th>\n",
       "      <th colspan=\"2\" halign=\"left\">max</th>\n",
       "      <th colspan=\"2\" halign=\"left\">mean</th>\n",
       "      <th colspan=\"2\" halign=\"left\">median</th>\n",
       "    </tr>\n",
       "    <tr>\n",
       "      <th></th>\n",
       "      <th>temperature_c</th>\n",
       "      <th>weekly_sales</th>\n",
       "      <th>temperature_c</th>\n",
       "      <th>weekly_sales</th>\n",
       "      <th>temperature_c</th>\n",
       "      <th>weekly_sales</th>\n",
       "      <th>temperature_c</th>\n",
       "      <th>weekly_sales</th>\n",
       "    </tr>\n",
       "    <tr>\n",
       "      <th>type</th>\n",
       "      <th></th>\n",
       "      <th></th>\n",
       "      <th></th>\n",
       "      <th></th>\n",
       "      <th></th>\n",
       "      <th></th>\n",
       "      <th></th>\n",
       "      <th></th>\n",
       "    </tr>\n",
       "  </thead>\n",
       "  <tbody>\n",
       "    <tr>\n",
       "      <th>A</th>\n",
       "      <td>-8.366667</td>\n",
       "      <td>-1098.0</td>\n",
       "      <td>33.300000</td>\n",
       "      <td>293966.05</td>\n",
       "      <td>15.231333</td>\n",
       "      <td>23674.667242</td>\n",
       "      <td>16.455556</td>\n",
       "      <td>11943.92</td>\n",
       "    </tr>\n",
       "    <tr>\n",
       "      <th>B</th>\n",
       "      <td>6.350000</td>\n",
       "      <td>-798.0</td>\n",
       "      <td>33.827778</td>\n",
       "      <td>232558.51</td>\n",
       "      <td>21.211327</td>\n",
       "      <td>25696.678370</td>\n",
       "      <td>21.688889</td>\n",
       "      <td>13336.08</td>\n",
       "    </tr>\n",
       "  </tbody>\n",
       "</table>\n",
       "</div>"
      ],
      "text/plain": [
       "               min                        max                       mean  \\\n",
       "     temperature_c weekly_sales temperature_c weekly_sales temperature_c   \n",
       "type                                                                       \n",
       "A        -8.366667      -1098.0     33.300000    293966.05     15.231333   \n",
       "B         6.350000       -798.0     33.827778    232558.51     21.211327   \n",
       "\n",
       "                          median               \n",
       "      weekly_sales temperature_c weekly_sales  \n",
       "type                                           \n",
       "A     23674.667242     16.455556     11943.92  \n",
       "B     25696.678370     21.688889     13336.08  "
      ]
     },
     "execution_count": 28,
     "metadata": {},
     "output_type": "execute_result"
    }
   ],
   "source": [
    "mean_sales_by_type_holiday = sales.pivot_table(\n",
    "    values=['weekly_sales', 'temperature_c'], \n",
    "    index='type', \n",
    "    aggfunc=[min, max, np.mean, np.median]\n",
    ")\n",
    "\n",
    "mean_sales_by_type_holiday"
   ]
  },
  {
   "cell_type": "code",
   "execution_count": 29,
   "id": "838a1ffc-3b1a-432b-a25a-15ef9e5950b0",
   "metadata": {},
   "outputs": [
    {
     "data": {
      "text/plain": [
       "Index(['Unnamed: 0', 'store', 'type', 'department', 'date', 'weekly_sales',\n",
       "       'is_holiday', 'temperature_c', 'fuel_price_usd_per_l', 'unemployment'],\n",
       "      dtype='object')"
      ]
     },
     "execution_count": 29,
     "metadata": {},
     "output_type": "execute_result"
    }
   ],
   "source": [
    "sales.columns"
   ]
  },
  {
   "cell_type": "code",
   "execution_count": null,
   "id": "d3916863-40fb-43ab-9cd8-b4d4288213c6",
   "metadata": {},
   "outputs": [],
   "source": []
  }
 ],
 "metadata": {
  "kernelspec": {
   "display_name": "Python 3 (ipykernel)",
   "language": "python",
   "name": "python3"
  },
  "language_info": {
   "codemirror_mode": {
    "name": "ipython",
    "version": 3
   },
   "file_extension": ".py",
   "mimetype": "text/x-python",
   "name": "python",
   "nbconvert_exporter": "python",
   "pygments_lexer": "ipython3",
   "version": "3.13.5"
  },
  "widgets": {
   "application/vnd.jupyter.widget-state+json": {
    "state": {},
    "version_major": 2,
    "version_minor": 0
   }
  }
 },
 "nbformat": 4,
 "nbformat_minor": 5
}
